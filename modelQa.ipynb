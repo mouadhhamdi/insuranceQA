{
 "cells": [
  {
   "cell_type": "markdown",
   "metadata": {
    "toc": true
   },
   "source": [
    "<h1>Table of Contents<span class=\"tocSkip\"></span></h1>\n",
    "<div class=\"toc\"><ul class=\"toc-item\"></ul></div>"
   ]
  },
  {
   "cell_type": "code",
   "execution_count": 1,
   "metadata": {},
   "outputs": [
    {
     "data": {
      "text/plain": [
       "{'vocab_path': '/home/mouadh/Desktop/insuranceQA/V2/vocabulary',\n",
       " 'label_path': '/home/mouadh/Desktop/insuranceQA/V2/InsuranceQA.label2answer.token.encoded',\n",
       " 'train_path': '/home/mouadh/Desktop/insuranceQA/V2/InsuranceQA.question.anslabel.token.500.pool.solr.train.encoded',\n",
       " 'test_path': '/home/mouadh/Desktop/insuranceQA/V2/InsuranceQA.question.anslabel.token.500.pool.solr.test.encoded',\n",
       " 'glove_path': '/home/mouadh/Desktop/insuranceQA/glove.840B.300d/glove.840B.300d.txt',\n",
       " 'glove_dim': 300,\n",
       " 'glove_num_vecs': 2196017,\n",
       " 'hidden_size': 100,\n",
       " 'word_emb_file': '/home/mouadh/Desktop/insuranceQA/glove.840B.300d/word_embedding',\n",
       " 'word2idx_file': '/home/mouadh/Desktop/insuranceQA/glove.840B.300d/word2idx',\n",
       " 'seed': 0,\n",
       " 'create_matrix_embedding': True,\n",
       " 'lr': 0.5,\n",
       " 'num_epochs': 30,\n",
       " 'drop_prob': 0.2,\n",
       " 'margin': 0.2,\n",
       " 'batch_size': 128,\n",
       " 'use_glove': False,\n",
       " 'embd_size': 200}"
      ]
     },
     "execution_count": 1,
     "metadata": {},
     "output_type": "execute_result"
    }
   ],
   "source": [
    "# Imports\n",
    "import gzip\n",
    "import os\n",
    "import pandas as pd\n",
    "import numpy as np\n",
    "import torch\n",
    "import basic_model\n",
    "import random\n",
    "from collections import Counter\n",
    "from tqdm import tqdm\n",
    "import ujson as json\n",
    "from torch.autograd import Variable\n",
    "import util\n",
    "import args\n",
    "import pprint\n",
    "\n",
    "args = args.get_setup_args()\n",
    "vars(args)"
   ]
  },
  {
   "cell_type": "code",
   "execution_count": 2,
   "metadata": {},
   "outputs": [],
   "source": [
    "# Fix the random seed to have reprodusable results\n",
    "random.seed(args.seed)\n",
    "np.random.seed(args.seed)\n",
    "#torch.manual_seed(args.seed)\n",
    "#torch.cuda.manual_seed_all(args.seed)"
   ]
  },
  {
   "cell_type": "code",
   "execution_count": 3,
   "metadata": {},
   "outputs": [
    {
     "name": "stdout",
     "output_type": "stream",
     "text": [
      "vocab_size: 68581\n"
     ]
    }
   ],
   "source": [
    "# Load answers labels and answer label with text\n",
    "id2w, l2a, l2at = util.load_vocabulary(args.vocab_path, args.label_path)\n",
    "\n",
    "# Create word to index vocabulary\n",
    "w2i = {w: i for i, w in enumerate(id2w.values(), 1)}\n",
    "# Add pad to the vocabulary\n",
    "PAD = '<PAD>'\n",
    "w2i[PAD] = 0\n",
    "\n",
    "vocab_size = len(w2i)\n",
    "args.vocab_size = vocab_size\n",
    "print('vocab_size:', vocab_size)"
   ]
  },
  {
   "cell_type": "code",
   "execution_count": 4,
   "metadata": {},
   "outputs": [],
   "source": [
    "train = util.load_data_train(args.train_path, id2w, l2at)"
   ]
  },
  {
   "cell_type": "code",
   "execution_count": 25,
   "metadata": {},
   "outputs": [],
   "source": [
    "test = util.load_data_test(args.test_path, id2w, l2at)"
   ]
  },
  {
   "cell_type": "code",
   "execution_count": 5,
   "metadata": {},
   "outputs": [
    {
     "name": "stdout",
     "output_type": "stream",
     "text": [
      "n_train: 21325\n",
      "n_test: 1988\n"
     ]
    }
   ],
   "source": [
    "print('n_train:', len(train))\n",
    "print('n_test:', len(test))"
   ]
  },
  {
   "cell_type": "code",
   "execution_count": 6,
   "metadata": {},
   "outputs": [],
   "source": [
    "if args.use_glove:\n",
    "    if not args.create_matrix_embedding:\n",
    "        # Create word embedding and word2idx for glove\n",
    "        print(\"Creating word embedding\")\n",
    "        word_emb_mat, word2idx_dict = util.get_embedding('word', emb_file=args.glove_path,\n",
    "                                        vec_size=args.glove_dim, num_vectors=args.glove_num_vecs)\n",
    "        util.save(args.word_emb_file, word_emb_mat, message=\"word embedding\")\n",
    "        util.save(args.word2idx_file, word2idx_dict, message=\"word dictionary\")\n",
    "    else:\n",
    "        # Get embeddings\n",
    "        print('Loading word vectors embeddings...')\n",
    "        word_vectors = util.torch_from_json(args.word_emb_file)\n",
    "        print(\"Loading word to index dictionary\")\n",
    "        word2idx_dict = json.load(open(args.word2idx_file))\n",
    "else:\n",
    "    word2idx_dict = w2i"
   ]
  },
  {
   "cell_type": "code",
   "execution_count": 7,
   "metadata": {
    "scrolled": true
   },
   "outputs": [
    {
     "data": {
      "text/plain": [
       "['Is', 'Disability', 'Insurance', 'Required', 'By', 'Law', '?']"
      ]
     },
     "execution_count": 7,
     "metadata": {},
     "output_type": "execute_result"
    }
   ],
   "source": [
    "train[0][0]"
   ]
  },
  {
   "cell_type": "code",
   "execution_count": 8,
   "metadata": {},
   "outputs": [
    {
     "data": {
      "text/plain": [
       "50370"
      ]
     },
     "execution_count": 8,
     "metadata": {},
     "output_type": "execute_result"
    }
   ],
   "source": [
    "word2idx_dict['?']"
   ]
  },
  {
   "cell_type": "code",
   "execution_count": 9,
   "metadata": {},
   "outputs": [
    {
     "data": {
      "text/plain": [
       "tensor([[66164, 54421, 29876, 56902, 59631, 57715, 50370,     0,     0,     0,\n",
       "             0,     0,     0,     0,     0,     0,     0,     0,     0,     0]])"
      ]
     },
     "execution_count": 9,
     "metadata": {},
     "output_type": "execute_result"
    }
   ],
   "source": [
    "util.make_vector([train[0][0]], w2i, 20)"
   ]
  },
  {
   "cell_type": "code",
   "execution_count": 11,
   "metadata": {},
   "outputs": [],
   "source": [
    "def train_model(model, data, optimizer, word2idx_dict, args, batch_size = 128):\n",
    "    for epoch in range(1): #args.num_epoch:\n",
    "        model.train()\n",
    "        random.shuffle(data)\n",
    "        losses = []\n",
    "        for i, d in enumerate(tqdm(data)):\n",
    "            q, pos, negs = d[0], d[1], d[2]\n",
    "            #pos = process_words(pos, word2idx_dict)\n",
    "            #q = process_words(q, word2idx_dict)\n",
    "            \n",
    "            vec_q = util.make_vector([q], word2idx_dict, len(q))\n",
    "            vec_pos = util.make_vector([pos], word2idx_dict, len(pos))\n",
    "            pos_sim = model(vec_q, vec_pos)\n",
    "\n",
    "            for _ in range(100):\n",
    "                neg = random.choice(negs)\n",
    "                #neg = process_words(neg, word2idx_dict)\n",
    "                vec_neg = util.make_vector([neg], word2idx_dict, len(neg))\n",
    "                neg_sim = model(vec_q, vec_neg)\n",
    "                #print('positive similarity {}, negative similarity{}'.format(pos_sim, neg_sim))\n",
    "                loss = util.loss_fn(pos_sim, neg_sim, args.margin)\n",
    "                if loss.data[0] != 0:\n",
    "                    losses.append(loss)\n",
    "                    break\n",
    "\n",
    "            if len(losses) == batch_size or i == len(data) - 1:\n",
    "                loss = torch.mean(torch.stack(losses, 0).squeeze(), 0)\n",
    "                #print(loss)\n",
    "                print(\"epoch: {}, iteration: {}, loss: {}\".format(epoch, i, loss.item()))\n",
    "                optimizer.zero_grad()\n",
    "                loss.backward()\n",
    "                optimizer.step()\n",
    "                losses = []\n",
    "    return model"
   ]
  },
  {
   "cell_type": "code",
   "execution_count": 12,
   "metadata": {},
   "outputs": [],
   "source": [
    "def lowercase(tokens):\n",
    "    return [token.lower() for token in tokens]"
   ]
  },
  {
   "cell_type": "code",
   "execution_count": 13,
   "metadata": {},
   "outputs": [],
   "source": [
    "from nltk.tokenize import RegexpTokenizer\n",
    "tokenizer_punct = RegexpTokenizer(r'\\w+')\n",
    "import itertools\n",
    "\n",
    "def remove_special_chars(tokens):\n",
    "    return list(itertools.chain(*[tokenizer_punct.tokenize(token) for token in tokens]))\n"
   ]
  },
  {
   "cell_type": "code",
   "execution_count": 14,
   "metadata": {},
   "outputs": [],
   "source": [
    "def remove_words_not_glove(tokens, word2idx_dict):\n",
    "    filteredlist = []\n",
    "    for token in tokens:\n",
    "        try: \n",
    "            word2idx_dict[token]\n",
    "            filteredlist.append(token)\n",
    "        except:\n",
    "            pass\n",
    "    return filteredlist"
   ]
  },
  {
   "cell_type": "code",
   "execution_count": 15,
   "metadata": {},
   "outputs": [
    {
     "data": {
      "text/plain": [
       "[]"
      ]
     },
     "execution_count": 15,
     "metadata": {},
     "output_type": "execute_result"
    }
   ],
   "source": [
    "remove_words_not_glove(['websitelink', 'hello'], word2idx_dict)"
   ]
  },
  {
   "cell_type": "code",
   "execution_count": 16,
   "metadata": {},
   "outputs": [],
   "source": [
    "def process_words(tokens, word2idx_dict):\n",
    "    tokens = lowercase(tokens)\n",
    "    tokens = remove_special_chars(tokens)\n",
    "    tokens = remove_words_not_glove(tokens, word2idx_dict)\n",
    "    return tokens"
   ]
  },
  {
   "cell_type": "code",
   "execution_count": 17,
   "metadata": {},
   "outputs": [],
   "source": [
    "import torch\n",
    "import torch.nn as nn\n",
    "import torch.nn.functional as F\n",
    "import torch.optim as optim\n",
    "\n",
    "if args.use_glove:\n",
    "    model = basic_model.QA_LSTM(args , word_vectors)\n",
    "else: \n",
    "    model = basic_model.QA_LSTM(args)\n",
    "\n",
    "if torch.cuda.is_available():\n",
    "    model.cuda()\n",
    "optimizer = torch.optim.Adam(filter(lambda p: p.requires_grad, model.parameters()))"
   ]
  },
  {
   "cell_type": "code",
   "execution_count": 18,
   "metadata": {
    "scrolled": true
   },
   "outputs": [
    {
     "name": "stderr",
     "output_type": "stream",
     "text": [
      "  1%|          | 125/21325 [00:06<19:39, 17.98it/s]"
     ]
    },
    {
     "name": "stdout",
     "output_type": "stream",
     "text": [
      "epoch: 0, iteration: 127, loss: 0.20360736548900604\n"
     ]
    },
    {
     "name": "stderr",
     "output_type": "stream",
     "text": [
      "  1%|          | 255/21325 [00:45<19:30, 18.00it/s]   "
     ]
    },
    {
     "name": "stdout",
     "output_type": "stream",
     "text": [
      "epoch: 0, iteration: 255, loss: 0.19979801774024963\n"
     ]
    },
    {
     "name": "stderr",
     "output_type": "stream",
     "text": [
      "  2%|▏         | 383/21325 [01:24<18:14, 19.14it/s]   "
     ]
    },
    {
     "name": "stdout",
     "output_type": "stream",
     "text": [
      "epoch: 0, iteration: 383, loss: 0.2003074735403061\n"
     ]
    },
    {
     "name": "stderr",
     "output_type": "stream",
     "text": [
      "  2%|▏         | 511/21325 [02:04<17:36, 19.70it/s]   "
     ]
    },
    {
     "name": "stdout",
     "output_type": "stream",
     "text": [
      "epoch: 0, iteration: 511, loss: 0.19824783504009247\n"
     ]
    },
    {
     "name": "stderr",
     "output_type": "stream",
     "text": [
      "  3%|▎         | 637/21325 [02:43<15:30, 22.24it/s]   "
     ]
    },
    {
     "name": "stdout",
     "output_type": "stream",
     "text": [
      "epoch: 0, iteration: 639, loss: 0.19930337369441986\n"
     ]
    },
    {
     "name": "stderr",
     "output_type": "stream",
     "text": [
      "  4%|▎         | 766/21325 [03:21<20:16, 16.90it/s]   "
     ]
    },
    {
     "name": "stdout",
     "output_type": "stream",
     "text": [
      "epoch: 0, iteration: 767, loss: 0.20024891197681427\n"
     ]
    },
    {
     "name": "stderr",
     "output_type": "stream",
     "text": [
      "  4%|▍         | 893/21325 [04:01<15:47, 21.56it/s]   "
     ]
    },
    {
     "name": "stdout",
     "output_type": "stream",
     "text": [
      "epoch: 0, iteration: 895, loss: 0.19931268692016602\n"
     ]
    },
    {
     "name": "stderr",
     "output_type": "stream",
     "text": [
      "  5%|▍         | 1022/21325 [04:40<16:02, 21.09it/s]  "
     ]
    },
    {
     "name": "stdout",
     "output_type": "stream",
     "text": [
      "epoch: 0, iteration: 1023, loss: 0.20061331987380981\n"
     ]
    },
    {
     "name": "stderr",
     "output_type": "stream",
     "text": [
      "  5%|▌         | 1150/21325 [05:19<22:34, 14.90it/s]   "
     ]
    },
    {
     "name": "stdout",
     "output_type": "stream",
     "text": [
      "epoch: 0, iteration: 1151, loss: 0.19722385704517365\n"
     ]
    },
    {
     "name": "stderr",
     "output_type": "stream",
     "text": [
      "  6%|▌         | 1278/21325 [05:57<14:17, 23.39it/s]   "
     ]
    },
    {
     "name": "stdout",
     "output_type": "stream",
     "text": [
      "epoch: 0, iteration: 1279, loss: 0.198110431432724\n"
     ]
    },
    {
     "name": "stderr",
     "output_type": "stream",
     "text": [
      "  7%|▋         | 1405/21325 [06:41<16:32, 20.07it/s]   "
     ]
    },
    {
     "name": "stdout",
     "output_type": "stream",
     "text": [
      "epoch: 0, iteration: 1407, loss: 0.19955451786518097\n"
     ]
    },
    {
     "name": "stderr",
     "output_type": "stream",
     "text": [
      "  7%|▋         | 1535/21325 [07:21<16:39, 19.81it/s]   "
     ]
    },
    {
     "name": "stdout",
     "output_type": "stream",
     "text": [
      "epoch: 0, iteration: 1535, loss: 0.1980333924293518\n"
     ]
    },
    {
     "name": "stderr",
     "output_type": "stream",
     "text": [
      "  8%|▊         | 1662/21325 [07:58<14:06, 23.22it/s]   "
     ]
    },
    {
     "name": "stdout",
     "output_type": "stream",
     "text": [
      "epoch: 0, iteration: 1663, loss: 0.1967649757862091\n"
     ]
    },
    {
     "name": "stderr",
     "output_type": "stream",
     "text": [
      "  8%|▊         | 1789/21325 [08:37<15:03, 21.62it/s]   "
     ]
    },
    {
     "name": "stdout",
     "output_type": "stream",
     "text": [
      "epoch: 0, iteration: 1791, loss: 0.19923222064971924\n"
     ]
    },
    {
     "name": "stderr",
     "output_type": "stream",
     "text": [
      "  9%|▉         | 1918/21325 [09:16<23:20, 13.86it/s]   "
     ]
    },
    {
     "name": "stdout",
     "output_type": "stream",
     "text": [
      "epoch: 0, iteration: 1919, loss: 0.19830664992332458\n"
     ]
    },
    {
     "name": "stderr",
     "output_type": "stream",
     "text": [
      " 10%|▉         | 2046/21325 [09:55<13:59, 22.97it/s]   "
     ]
    },
    {
     "name": "stdout",
     "output_type": "stream",
     "text": [
      "epoch: 0, iteration: 2047, loss: 0.1958111673593521\n"
     ]
    },
    {
     "name": "stderr",
     "output_type": "stream",
     "text": [
      " 10%|█         | 2174/21325 [10:32<14:29, 22.02it/s]   "
     ]
    },
    {
     "name": "stdout",
     "output_type": "stream",
     "text": [
      "epoch: 0, iteration: 2175, loss: 0.19635848701000214\n"
     ]
    },
    {
     "name": "stderr",
     "output_type": "stream",
     "text": [
      " 11%|█         | 2302/21325 [11:13<12:50, 24.69it/s]   "
     ]
    },
    {
     "name": "stdout",
     "output_type": "stream",
     "text": [
      "epoch: 0, iteration: 2303, loss: 0.1947476714849472\n"
     ]
    },
    {
     "name": "stderr",
     "output_type": "stream",
     "text": [
      " 11%|█▏        | 2431/21325 [11:50<14:50, 21.21it/s]   "
     ]
    },
    {
     "name": "stdout",
     "output_type": "stream",
     "text": [
      "epoch: 0, iteration: 2431, loss: 0.19431360065937042\n"
     ]
    },
    {
     "name": "stderr",
     "output_type": "stream",
     "text": [
      " 12%|█▏        | 2557/21325 [12:30<17:25, 17.95it/s]   "
     ]
    },
    {
     "name": "stdout",
     "output_type": "stream",
     "text": [
      "epoch: 0, iteration: 2559, loss: 0.19615250825881958\n"
     ]
    },
    {
     "name": "stderr",
     "output_type": "stream",
     "text": [
      " 13%|█▎        | 2685/21325 [13:14<14:30, 21.41it/s]   "
     ]
    },
    {
     "name": "stdout",
     "output_type": "stream",
     "text": [
      "epoch: 0, iteration: 2687, loss: 0.19718849658966064\n"
     ]
    },
    {
     "name": "stderr",
     "output_type": "stream",
     "text": [
      " 13%|█▎        | 2814/21325 [13:54<16:17, 18.93it/s]   "
     ]
    },
    {
     "name": "stdout",
     "output_type": "stream",
     "text": [
      "epoch: 0, iteration: 2815, loss: 0.1929452121257782\n"
     ]
    },
    {
     "name": "stderr",
     "output_type": "stream",
     "text": [
      " 14%|█▍        | 2943/21325 [14:37<15:02, 20.37it/s]   "
     ]
    },
    {
     "name": "stdout",
     "output_type": "stream",
     "text": [
      "epoch: 0, iteration: 2943, loss: 0.1927233189344406\n"
     ]
    },
    {
     "name": "stderr",
     "output_type": "stream",
     "text": [
      " 14%|█▍        | 3071/21325 [15:15<12:10, 24.99it/s]   "
     ]
    },
    {
     "name": "stdout",
     "output_type": "stream",
     "text": [
      "epoch: 0, iteration: 3071, loss: 0.1906544417142868\n"
     ]
    },
    {
     "name": "stderr",
     "output_type": "stream",
     "text": [
      " 15%|█▍        | 3198/21325 [15:53<15:41, 19.26it/s]   "
     ]
    },
    {
     "name": "stdout",
     "output_type": "stream",
     "text": [
      "epoch: 0, iteration: 3199, loss: 0.18828672170639038\n"
     ]
    },
    {
     "name": "stderr",
     "output_type": "stream",
     "text": [
      " 16%|█▌        | 3325/21325 [16:32<16:19, 18.38it/s]   "
     ]
    },
    {
     "name": "stdout",
     "output_type": "stream",
     "text": [
      "epoch: 0, iteration: 3327, loss: 0.1919081062078476\n"
     ]
    },
    {
     "name": "stderr",
     "output_type": "stream",
     "text": [
      " 16%|█▌        | 3454/21325 [17:13<17:48, 16.73it/s]   "
     ]
    },
    {
     "name": "stdout",
     "output_type": "stream",
     "text": [
      "epoch: 0, iteration: 3455, loss: 0.19091440737247467\n"
     ]
    },
    {
     "name": "stderr",
     "output_type": "stream",
     "text": [
      " 17%|█▋        | 3583/21325 [17:57<19:54, 14.86it/s]   "
     ]
    },
    {
     "name": "stdout",
     "output_type": "stream",
     "text": [
      "epoch: 0, iteration: 3583, loss: 0.1905534565448761\n"
     ]
    },
    {
     "name": "stderr",
     "output_type": "stream",
     "text": [
      " 17%|█▋        | 3710/21325 [18:39<15:26, 19.02it/s]   "
     ]
    },
    {
     "name": "stdout",
     "output_type": "stream",
     "text": [
      "epoch: 0, iteration: 3711, loss: 0.18700608611106873\n"
     ]
    },
    {
     "name": "stderr",
     "output_type": "stream",
     "text": [
      " 18%|█▊        | 3838/21325 [19:20<15:59, 18.23it/s]   "
     ]
    },
    {
     "name": "stdout",
     "output_type": "stream",
     "text": [
      "epoch: 0, iteration: 3839, loss: 0.19253912568092346\n"
     ]
    },
    {
     "name": "stderr",
     "output_type": "stream",
     "text": [
      " 19%|█▊        | 3966/21325 [20:01<13:26, 21.53it/s]   "
     ]
    },
    {
     "name": "stdout",
     "output_type": "stream",
     "text": [
      "epoch: 0, iteration: 3967, loss: 0.18781445920467377\n"
     ]
    },
    {
     "name": "stderr",
     "output_type": "stream",
     "text": [
      " 19%|█▉        | 4095/21325 [20:43<19:31, 14.71it/s]   "
     ]
    },
    {
     "name": "stdout",
     "output_type": "stream",
     "text": [
      "epoch: 0, iteration: 4095, loss: 0.18860551714897156\n"
     ]
    },
    {
     "name": "stderr",
     "output_type": "stream",
     "text": [
      " 20%|█▉        | 4222/21325 [21:24<14:08, 20.15it/s]   "
     ]
    },
    {
     "name": "stdout",
     "output_type": "stream",
     "text": [
      "epoch: 0, iteration: 4223, loss: 0.18997427821159363\n"
     ]
    },
    {
     "name": "stderr",
     "output_type": "stream",
     "text": [
      " 20%|██        | 4349/21325 [22:06<11:36, 24.38it/s]   "
     ]
    },
    {
     "name": "stdout",
     "output_type": "stream",
     "text": [
      "epoch: 0, iteration: 4351, loss: 0.19253185391426086\n"
     ]
    },
    {
     "name": "stderr",
     "output_type": "stream",
     "text": [
      " 21%|██        | 4477/21325 [22:46<14:52, 18.88it/s]   "
     ]
    },
    {
     "name": "stdout",
     "output_type": "stream",
     "text": [
      "epoch: 0, iteration: 4479, loss: 0.18485566973686218\n"
     ]
    },
    {
     "name": "stderr",
     "output_type": "stream",
     "text": [
      " 22%|██▏       | 4607/21325 [23:27<15:49, 17.61it/s]   "
     ]
    },
    {
     "name": "stdout",
     "output_type": "stream",
     "text": [
      "epoch: 0, iteration: 4607, loss: 0.18848192691802979\n"
     ]
    },
    {
     "name": "stderr",
     "output_type": "stream",
     "text": [
      " 22%|██▏       | 4734/21325 [24:09<16:39, 16.60it/s]   "
     ]
    },
    {
     "name": "stdout",
     "output_type": "stream",
     "text": [
      "epoch: 0, iteration: 4735, loss: 0.18578074872493744\n"
     ]
    },
    {
     "name": "stderr",
     "output_type": "stream",
     "text": [
      " 23%|██▎       | 4863/21325 [24:50<23:50, 11.51it/s]   "
     ]
    },
    {
     "name": "stdout",
     "output_type": "stream",
     "text": [
      "epoch: 0, iteration: 4863, loss: 0.18965578079223633\n"
     ]
    },
    {
     "name": "stderr",
     "output_type": "stream",
     "text": [
      " 23%|██▎       | 4990/21325 [25:32<13:11, 20.65it/s]   "
     ]
    },
    {
     "name": "stdout",
     "output_type": "stream",
     "text": [
      "epoch: 0, iteration: 4991, loss: 0.18074525892734528\n"
     ]
    },
    {
     "name": "stderr",
     "output_type": "stream",
     "text": [
      " 24%|██▍       | 5119/21325 [26:14<12:32, 21.54it/s]   "
     ]
    },
    {
     "name": "stdout",
     "output_type": "stream",
     "text": [
      "epoch: 0, iteration: 5119, loss: 0.1851525455713272\n"
     ]
    },
    {
     "name": "stderr",
     "output_type": "stream",
     "text": [
      " 25%|██▍       | 5247/21325 [27:01<14:56, 17.93it/s]   "
     ]
    },
    {
     "name": "stdout",
     "output_type": "stream",
     "text": [
      "epoch: 0, iteration: 5247, loss: 0.180517315864563\n"
     ]
    },
    {
     "name": "stderr",
     "output_type": "stream",
     "text": [
      " 25%|██▌       | 5374/21325 [27:48<15:39, 16.98it/s]   "
     ]
    },
    {
     "name": "stdout",
     "output_type": "stream",
     "text": [
      "epoch: 0, iteration: 5375, loss: 0.18123219907283783\n"
     ]
    },
    {
     "name": "stderr",
     "output_type": "stream",
     "text": [
      " 26%|██▌       | 5502/21325 [28:32<17:24, 15.15it/s]   "
     ]
    },
    {
     "name": "stdout",
     "output_type": "stream",
     "text": [
      "epoch: 0, iteration: 5503, loss: 0.1836794912815094\n"
     ]
    },
    {
     "name": "stderr",
     "output_type": "stream",
     "text": [
      " 26%|██▋       | 5631/21325 [29:16<18:20, 14.26it/s]   "
     ]
    },
    {
     "name": "stdout",
     "output_type": "stream",
     "text": [
      "epoch: 0, iteration: 5631, loss: 0.18394427001476288\n"
     ]
    },
    {
     "name": "stderr",
     "output_type": "stream",
     "text": [
      " 27%|██▋       | 5757/21325 [29:59<11:24, 22.74it/s]   "
     ]
    },
    {
     "name": "stdout",
     "output_type": "stream",
     "text": [
      "epoch: 0, iteration: 5759, loss: 0.17834383249282837\n"
     ]
    },
    {
     "name": "stderr",
     "output_type": "stream",
     "text": [
      " 28%|██▊       | 5887/21325 [30:41<11:32, 22.30it/s]   "
     ]
    },
    {
     "name": "stdout",
     "output_type": "stream",
     "text": [
      "epoch: 0, iteration: 5887, loss: 0.17646852135658264\n"
     ]
    },
    {
     "name": "stderr",
     "output_type": "stream",
     "text": [
      " 28%|██▊       | 6014/21325 [31:26<14:38, 17.43it/s]   "
     ]
    },
    {
     "name": "stdout",
     "output_type": "stream",
     "text": [
      "epoch: 0, iteration: 6015, loss: 0.17885719239711761\n"
     ]
    },
    {
     "name": "stderr",
     "output_type": "stream",
     "text": [
      " 29%|██▉       | 6143/21325 [32:10<13:25, 18.85it/s]   "
     ]
    },
    {
     "name": "stdout",
     "output_type": "stream",
     "text": [
      "epoch: 0, iteration: 6143, loss: 0.1798500269651413\n"
     ]
    },
    {
     "name": "stderr",
     "output_type": "stream",
     "text": [
      " 29%|██▉       | 6270/21325 [32:53<12:00, 20.91it/s]   "
     ]
    },
    {
     "name": "stdout",
     "output_type": "stream",
     "text": [
      "epoch: 0, iteration: 6271, loss: 0.17297278344631195\n"
     ]
    },
    {
     "name": "stderr",
     "output_type": "stream",
     "text": [
      " 30%|███       | 6399/21325 [33:36<17:50, 13.95it/s]   "
     ]
    },
    {
     "name": "stdout",
     "output_type": "stream",
     "text": [
      "epoch: 0, iteration: 6399, loss: 0.17367716133594513\n"
     ]
    },
    {
     "name": "stderr",
     "output_type": "stream",
     "text": [
      " 31%|███       | 6526/21325 [34:25<12:58, 19.02it/s]   "
     ]
    },
    {
     "name": "stdout",
     "output_type": "stream",
     "text": [
      "epoch: 0, iteration: 6527, loss: 0.17436984181404114\n"
     ]
    },
    {
     "name": "stderr",
     "output_type": "stream",
     "text": [
      " 31%|███       | 6653/21325 [35:03<14:25, 16.95it/s]   "
     ]
    },
    {
     "name": "stdout",
     "output_type": "stream",
     "text": [
      "epoch: 0, iteration: 6655, loss: 0.1711960881948471\n"
     ]
    },
    {
     "name": "stderr",
     "output_type": "stream",
     "text": [
      " 32%|███▏      | 6783/21325 [35:45<12:26, 19.48it/s]   "
     ]
    },
    {
     "name": "stdout",
     "output_type": "stream",
     "text": [
      "epoch: 0, iteration: 6783, loss: 0.1633915901184082\n"
     ]
    },
    {
     "name": "stderr",
     "output_type": "stream",
     "text": [
      " 32%|███▏      | 6910/21325 [36:31<10:54, 22.03it/s]   "
     ]
    },
    {
     "name": "stdout",
     "output_type": "stream",
     "text": [
      "epoch: 0, iteration: 6911, loss: 0.16570928692817688\n"
     ]
    },
    {
     "name": "stderr",
     "output_type": "stream",
     "text": [
      " 33%|███▎      | 7038/21325 [37:15<10:00, 23.78it/s]   "
     ]
    },
    {
     "name": "stdout",
     "output_type": "stream",
     "text": [
      "epoch: 0, iteration: 7039, loss: 0.1717926412820816\n"
     ]
    },
    {
     "name": "stderr",
     "output_type": "stream",
     "text": [
      " 34%|███▎      | 7165/21325 [37:55<12:32, 18.83it/s]   "
     ]
    },
    {
     "name": "stdout",
     "output_type": "stream",
     "text": [
      "epoch: 0, iteration: 7167, loss: 0.17230001091957092\n"
     ]
    },
    {
     "name": "stderr",
     "output_type": "stream",
     "text": [
      " 34%|███▍      | 7293/21325 [38:35<12:23, 18.86it/s]   "
     ]
    },
    {
     "name": "stdout",
     "output_type": "stream",
     "text": [
      "epoch: 0, iteration: 7295, loss: 0.17247124016284943\n"
     ]
    },
    {
     "name": "stderr",
     "output_type": "stream",
     "text": [
      " 35%|███▍      | 7421/21325 [39:18<10:31, 22.03it/s]   "
     ]
    },
    {
     "name": "stdout",
     "output_type": "stream",
     "text": [
      "epoch: 0, iteration: 7423, loss: 0.1629311442375183\n"
     ]
    },
    {
     "name": "stderr",
     "output_type": "stream",
     "text": [
      " 35%|███▌      | 7549/21325 [40:01<10:04, 22.79it/s]   "
     ]
    },
    {
     "name": "stdout",
     "output_type": "stream",
     "text": [
      "epoch: 0, iteration: 7551, loss: 0.1710156500339508\n"
     ]
    },
    {
     "name": "stderr",
     "output_type": "stream",
     "text": [
      " 36%|███▌      | 7678/21325 [40:40<10:34, 21.50it/s]   "
     ]
    },
    {
     "name": "stdout",
     "output_type": "stream",
     "text": [
      "epoch: 0, iteration: 7679, loss: 0.166587695479393\n"
     ]
    },
    {
     "name": "stderr",
     "output_type": "stream",
     "text": [
      " 37%|███▋      | 7807/21325 [41:24<16:04, 14.01it/s]   "
     ]
    },
    {
     "name": "stdout",
     "output_type": "stream",
     "text": [
      "epoch: 0, iteration: 7807, loss: 0.1667833924293518\n"
     ]
    },
    {
     "name": "stderr",
     "output_type": "stream",
     "text": [
      " 37%|███▋      | 7934/21325 [42:04<10:16, 21.72it/s]   "
     ]
    },
    {
     "name": "stdout",
     "output_type": "stream",
     "text": [
      "epoch: 0, iteration: 7935, loss: 0.1631874293088913\n"
     ]
    },
    {
     "name": "stderr",
     "output_type": "stream",
     "text": [
      " 38%|███▊      | 8062/21325 [42:50<12:13, 18.09it/s]   "
     ]
    },
    {
     "name": "stdout",
     "output_type": "stream",
     "text": [
      "epoch: 0, iteration: 8063, loss: 0.1549822986125946\n"
     ]
    },
    {
     "name": "stderr",
     "output_type": "stream",
     "text": [
      " 38%|███▊      | 8189/21325 [43:31<11:50, 18.50it/s]   "
     ]
    },
    {
     "name": "stdout",
     "output_type": "stream",
     "text": [
      "epoch: 0, iteration: 8191, loss: 0.15388214588165283\n"
     ]
    },
    {
     "name": "stderr",
     "output_type": "stream",
     "text": [
      " 39%|███▉      | 8317/21325 [44:14<11:51, 18.27it/s]   "
     ]
    },
    {
     "name": "stdout",
     "output_type": "stream",
     "text": [
      "epoch: 0, iteration: 8319, loss: 0.16623805463314056\n"
     ]
    },
    {
     "name": "stderr",
     "output_type": "stream",
     "text": [
      " 40%|███▉      | 8445/21325 [44:57<13:11, 16.28it/s]   "
     ]
    },
    {
     "name": "stdout",
     "output_type": "stream",
     "text": [
      "epoch: 0, iteration: 8447, loss: 0.1633126139640808\n"
     ]
    },
    {
     "name": "stderr",
     "output_type": "stream",
     "text": [
      " 40%|████      | 8574/21325 [45:40<17:16, 12.30it/s]   "
     ]
    },
    {
     "name": "stdout",
     "output_type": "stream",
     "text": [
      "epoch: 0, iteration: 8575, loss: 0.15570461750030518\n"
     ]
    },
    {
     "name": "stderr",
     "output_type": "stream",
     "text": [
      " 41%|████      | 8703/21325 [46:24<14:08, 14.87it/s]   "
     ]
    },
    {
     "name": "stdout",
     "output_type": "stream",
     "text": [
      "epoch: 0, iteration: 8703, loss: 0.1563260555267334\n"
     ]
    },
    {
     "name": "stderr",
     "output_type": "stream",
     "text": [
      " 41%|████▏     | 8831/21325 [47:09<12:50, 16.22it/s]   "
     ]
    },
    {
     "name": "stdout",
     "output_type": "stream",
     "text": [
      "epoch: 0, iteration: 8831, loss: 0.1592862606048584\n"
     ]
    },
    {
     "name": "stderr",
     "output_type": "stream",
     "text": [
      " 42%|████▏     | 8959/21325 [47:54<12:26, 16.56it/s]   "
     ]
    },
    {
     "name": "stdout",
     "output_type": "stream",
     "text": [
      "epoch: 0, iteration: 8959, loss: 0.15731391310691833\n"
     ]
    },
    {
     "name": "stderr",
     "output_type": "stream",
     "text": [
      " 43%|████▎     | 9087/21325 [48:36<12:15, 16.63it/s]   "
     ]
    },
    {
     "name": "stdout",
     "output_type": "stream",
     "text": [
      "epoch: 0, iteration: 9087, loss: 0.1466289907693863\n"
     ]
    },
    {
     "name": "stderr",
     "output_type": "stream",
     "text": [
      " 43%|████▎     | 9215/21325 [49:20<10:36, 19.02it/s]   "
     ]
    },
    {
     "name": "stdout",
     "output_type": "stream",
     "text": [
      "epoch: 0, iteration: 9215, loss: 0.16238033771514893\n"
     ]
    },
    {
     "name": "stderr",
     "output_type": "stream",
     "text": [
      " 44%|████▍     | 9341/21325 [50:05<09:04, 22.03it/s]   "
     ]
    },
    {
     "name": "stdout",
     "output_type": "stream",
     "text": [
      "epoch: 0, iteration: 9343, loss: 0.14819103479385376\n"
     ]
    },
    {
     "name": "stderr",
     "output_type": "stream",
     "text": [
      " 44%|████▍     | 9470/21325 [50:48<10:32, 18.73it/s]   "
     ]
    },
    {
     "name": "stdout",
     "output_type": "stream",
     "text": [
      "epoch: 0, iteration: 9471, loss: 0.15639635920524597\n"
     ]
    },
    {
     "name": "stderr",
     "output_type": "stream",
     "text": [
      " 45%|████▌     | 9598/21325 [51:29<11:31, 16.96it/s]   "
     ]
    },
    {
     "name": "stdout",
     "output_type": "stream",
     "text": [
      "epoch: 0, iteration: 9599, loss: 0.1524704396724701\n"
     ]
    },
    {
     "name": "stderr",
     "output_type": "stream",
     "text": [
      " 46%|████▌     | 9727/21325 [52:11<14:37, 13.22it/s]   "
     ]
    },
    {
     "name": "stdout",
     "output_type": "stream",
     "text": [
      "epoch: 0, iteration: 9727, loss: 0.16402742266654968\n"
     ]
    },
    {
     "name": "stderr",
     "output_type": "stream",
     "text": [
      " 46%|████▌     | 9855/21325 [52:51<13:02, 14.66it/s]   "
     ]
    },
    {
     "name": "stdout",
     "output_type": "stream",
     "text": [
      "epoch: 0, iteration: 9855, loss: 0.15128029882907867\n"
     ]
    },
    {
     "name": "stderr",
     "output_type": "stream",
     "text": [
      " 47%|████▋     | 9982/21325 [53:35<10:35, 17.84it/s]   "
     ]
    },
    {
     "name": "stdout",
     "output_type": "stream",
     "text": [
      "epoch: 0, iteration: 9983, loss: 0.1463891714811325\n"
     ]
    },
    {
     "name": "stderr",
     "output_type": "stream",
     "text": [
      " 47%|████▋     | 10110/21325 [54:15<09:47, 19.10it/s]  "
     ]
    },
    {
     "name": "stdout",
     "output_type": "stream",
     "text": [
      "epoch: 0, iteration: 10111, loss: 0.1490676999092102\n"
     ]
    },
    {
     "name": "stderr",
     "output_type": "stream",
     "text": [
      " 48%|████▊     | 10239/21325 [54:57<10:31, 17.55it/s]   "
     ]
    },
    {
     "name": "stdout",
     "output_type": "stream",
     "text": [
      "epoch: 0, iteration: 10239, loss: 0.14497633278369904\n"
     ]
    },
    {
     "name": "stderr",
     "output_type": "stream",
     "text": [
      " 49%|████▊     | 10367/21325 [55:38<12:31, 14.59it/s]   "
     ]
    },
    {
     "name": "stdout",
     "output_type": "stream",
     "text": [
      "epoch: 0, iteration: 10367, loss: 0.14588819444179535\n"
     ]
    },
    {
     "name": "stderr",
     "output_type": "stream",
     "text": [
      " 49%|████▉     | 10493/21325 [56:24<19:17,  9.36it/s]   "
     ]
    },
    {
     "name": "stdout",
     "output_type": "stream",
     "text": [
      "epoch: 0, iteration: 10495, loss: 0.14753104746341705\n"
     ]
    },
    {
     "name": "stderr",
     "output_type": "stream",
     "text": [
      " 50%|████▉     | 10622/21325 [57:13<11:36, 15.36it/s]   "
     ]
    },
    {
     "name": "stdout",
     "output_type": "stream",
     "text": [
      "epoch: 0, iteration: 10623, loss: 0.1586778610944748\n"
     ]
    },
    {
     "name": "stderr",
     "output_type": "stream",
     "text": [
      " 50%|█████     | 10751/21325 [57:56<19:52,  8.86it/s]   "
     ]
    },
    {
     "name": "stdout",
     "output_type": "stream",
     "text": [
      "epoch: 0, iteration: 10751, loss: 0.15759894251823425\n"
     ]
    },
    {
     "name": "stderr",
     "output_type": "stream",
     "text": [
      " 51%|█████     | 10878/21325 [58:40<10:56, 15.91it/s]   "
     ]
    },
    {
     "name": "stdout",
     "output_type": "stream",
     "text": [
      "epoch: 0, iteration: 10879, loss: 0.16875752806663513\n"
     ]
    },
    {
     "name": "stderr",
     "output_type": "stream",
     "text": [
      " 52%|█████▏    | 11007/21325 [59:24<11:26, 15.02it/s]   "
     ]
    },
    {
     "name": "stdout",
     "output_type": "stream",
     "text": [
      "epoch: 0, iteration: 11007, loss: 0.14767487347126007\n"
     ]
    },
    {
     "name": "stderr",
     "output_type": "stream",
     "text": [
      " 52%|█████▏    | 11135/21325 [1:00:08<30:25,  5.58it/s]  "
     ]
    },
    {
     "name": "stdout",
     "output_type": "stream",
     "text": [
      "epoch: 0, iteration: 11135, loss: 0.16744668781757355\n"
     ]
    },
    {
     "name": "stderr",
     "output_type": "stream",
     "text": [
      " 53%|█████▎    | 11263/21325 [1:00:51<11:28, 14.60it/s]   "
     ]
    },
    {
     "name": "stdout",
     "output_type": "stream",
     "text": [
      "epoch: 0, iteration: 11263, loss: 0.152044415473938\n"
     ]
    },
    {
     "name": "stderr",
     "output_type": "stream",
     "text": [
      " 53%|█████▎    | 11390/21325 [1:01:53<20:25,  8.10it/s]   "
     ]
    },
    {
     "name": "stdout",
     "output_type": "stream",
     "text": [
      "epoch: 0, iteration: 11391, loss: 0.1577659398317337\n"
     ]
    },
    {
     "name": "stderr",
     "output_type": "stream",
     "text": [
      " 54%|█████▍    | 11519/21325 [1:02:52<12:55, 12.64it/s]   "
     ]
    },
    {
     "name": "stdout",
     "output_type": "stream",
     "text": [
      "epoch: 0, iteration: 11519, loss: 0.152431920170784\n"
     ]
    },
    {
     "name": "stderr",
     "output_type": "stream",
     "text": [
      " 55%|█████▍    | 11648/21325 [1:03:45<13:32, 11.91it/s]   "
     ]
    },
    {
     "name": "stdout",
     "output_type": "stream",
     "text": [
      "epoch: 0, iteration: 11648, loss: 0.13059690594673157\n"
     ]
    },
    {
     "name": "stderr",
     "output_type": "stream",
     "text": [
      " 55%|█████▌    | 11776/21325 [1:04:33<24:30,  6.49it/s]   "
     ]
    },
    {
     "name": "stdout",
     "output_type": "stream",
     "text": [
      "epoch: 0, iteration: 11776, loss: 0.15821915864944458\n"
     ]
    },
    {
     "name": "stderr",
     "output_type": "stream",
     "text": [
      " 56%|█████▌    | 11902/21325 [1:05:15<08:49, 17.80it/s]   "
     ]
    },
    {
     "name": "stdout",
     "output_type": "stream",
     "text": [
      "epoch: 0, iteration: 11904, loss: 0.16416528820991516\n"
     ]
    },
    {
     "name": "stderr",
     "output_type": "stream",
     "text": [
      " 56%|█████▋    | 12032/21325 [1:05:56<12:04, 12.83it/s]  "
     ]
    },
    {
     "name": "stdout",
     "output_type": "stream",
     "text": [
      "epoch: 0, iteration: 12032, loss: 0.170810729265213\n"
     ]
    },
    {
     "name": "stderr",
     "output_type": "stream",
     "text": [
      " 57%|█████▋    | 12160/21325 [1:06:39<19:58,  7.65it/s]   "
     ]
    },
    {
     "name": "stdout",
     "output_type": "stream",
     "text": [
      "epoch: 0, iteration: 12160, loss: 0.15404602885246277\n"
     ]
    },
    {
     "name": "stderr",
     "output_type": "stream",
     "text": [
      " 58%|█████▊    | 12288/21325 [1:07:20<27:19,  5.51it/s]   "
     ]
    },
    {
     "name": "stdout",
     "output_type": "stream",
     "text": [
      "epoch: 0, iteration: 12288, loss: 0.1509464830160141\n"
     ]
    },
    {
     "name": "stderr",
     "output_type": "stream",
     "text": [
      " 58%|█████▊    | 12416/21325 [1:08:11<16:04,  9.24it/s]   "
     ]
    },
    {
     "name": "stdout",
     "output_type": "stream",
     "text": [
      "epoch: 0, iteration: 12416, loss: 0.13267649710178375\n"
     ]
    },
    {
     "name": "stderr",
     "output_type": "stream",
     "text": [
      " 59%|█████▉    | 12545/21325 [1:09:02<12:28, 11.73it/s]   "
     ]
    },
    {
     "name": "stdout",
     "output_type": "stream",
     "text": [
      "epoch: 0, iteration: 12545, loss: 0.150248721241951\n"
     ]
    },
    {
     "name": "stderr",
     "output_type": "stream",
     "text": [
      " 59%|█████▉    | 12672/21325 [1:09:53<17:11,  8.39it/s]   "
     ]
    },
    {
     "name": "stdout",
     "output_type": "stream",
     "text": [
      "epoch: 0, iteration: 12673, loss: 0.16147702932357788\n"
     ]
    },
    {
     "name": "stderr",
     "output_type": "stream",
     "text": [
      " 60%|██████    | 12800/21325 [1:10:36<10:18, 13.78it/s]   "
     ]
    },
    {
     "name": "stdout",
     "output_type": "stream",
     "text": [
      "epoch: 0, iteration: 12801, loss: 0.18090090155601501\n"
     ]
    },
    {
     "name": "stderr",
     "output_type": "stream",
     "text": [
      " 61%|██████    | 12929/21325 [1:11:26<16:54,  8.28it/s]   "
     ]
    },
    {
     "name": "stdout",
     "output_type": "stream",
     "text": [
      "epoch: 0, iteration: 12930, loss: 0.18212802708148956\n"
     ]
    },
    {
     "name": "stderr",
     "output_type": "stream",
     "text": [
      " 61%|██████    | 13059/21325 [1:12:10<08:05, 17.04it/s]   "
     ]
    },
    {
     "name": "stdout",
     "output_type": "stream",
     "text": [
      "epoch: 0, iteration: 13059, loss: 0.17926529049873352\n"
     ]
    },
    {
     "name": "stderr",
     "output_type": "stream",
     "text": [
      " 62%|██████▏   | 13187/21325 [1:12:52<08:31, 15.90it/s]   "
     ]
    },
    {
     "name": "stdout",
     "output_type": "stream",
     "text": [
      "epoch: 0, iteration: 13187, loss: 0.17151734232902527\n"
     ]
    },
    {
     "name": "stderr",
     "output_type": "stream",
     "text": [
      " 62%|██████▏   | 13315/21325 [1:13:42<28:08,  4.74it/s]   "
     ]
    },
    {
     "name": "stdout",
     "output_type": "stream",
     "text": [
      "epoch: 0, iteration: 13315, loss: 0.13338936865329742\n"
     ]
    },
    {
     "name": "stderr",
     "output_type": "stream",
     "text": [
      " 63%|██████▎   | 13443/21325 [1:14:30<24:53,  5.28it/s]   "
     ]
    },
    {
     "name": "stdout",
     "output_type": "stream",
     "text": [
      "epoch: 0, iteration: 13443, loss: 0.13983607292175293\n"
     ]
    },
    {
     "name": "stderr",
     "output_type": "stream",
     "text": [
      " 64%|██████▎   | 13571/21325 [1:15:21<08:27, 15.29it/s]   "
     ]
    },
    {
     "name": "stdout",
     "output_type": "stream",
     "text": [
      "epoch: 0, iteration: 13571, loss: 0.17743510007858276\n"
     ]
    },
    {
     "name": "stderr",
     "output_type": "stream",
     "text": [
      " 64%|██████▍   | 13699/21325 [1:16:04<08:49, 14.41it/s]   "
     ]
    },
    {
     "name": "stdout",
     "output_type": "stream",
     "text": [
      "epoch: 0, iteration: 13699, loss: 0.15927624702453613\n"
     ]
    },
    {
     "name": "stderr",
     "output_type": "stream",
     "text": [
      " 65%|██████▍   | 13828/21325 [1:16:54<42:01,  2.97it/s]   "
     ]
    },
    {
     "name": "stdout",
     "output_type": "stream",
     "text": [
      "epoch: 0, iteration: 13828, loss: 0.17584995925426483\n"
     ]
    },
    {
     "name": "stderr",
     "output_type": "stream",
     "text": [
      " 65%|██████▌   | 13955/21325 [1:17:42<21:15,  5.78it/s]   "
     ]
    },
    {
     "name": "stdout",
     "output_type": "stream",
     "text": [
      "epoch: 0, iteration: 13956, loss: 0.14615361392498016\n"
     ]
    },
    {
     "name": "stderr",
     "output_type": "stream",
     "text": [
      " 66%|██████▌   | 14084/21325 [1:18:29<10:08, 11.90it/s]   "
     ]
    },
    {
     "name": "stdout",
     "output_type": "stream",
     "text": [
      "epoch: 0, iteration: 14084, loss: 0.15419641137123108\n"
     ]
    },
    {
     "name": "stderr",
     "output_type": "stream",
     "text": [
      " 67%|██████▋   | 14212/21325 [1:19:15<10:31, 11.26it/s]   "
     ]
    },
    {
     "name": "stdout",
     "output_type": "stream",
     "text": [
      "epoch: 0, iteration: 14212, loss: 0.15496496856212616\n"
     ]
    },
    {
     "name": "stderr",
     "output_type": "stream",
     "text": [
      " 67%|██████▋   | 14339/21325 [1:20:00<12:11,  9.56it/s]   "
     ]
    },
    {
     "name": "stdout",
     "output_type": "stream",
     "text": [
      "epoch: 0, iteration: 14340, loss: 0.16007256507873535\n"
     ]
    },
    {
     "name": "stderr",
     "output_type": "stream",
     "text": [
      " 68%|██████▊   | 14467/21325 [1:20:51<25:23,  4.50it/s]   "
     ]
    },
    {
     "name": "stdout",
     "output_type": "stream",
     "text": [
      "epoch: 0, iteration: 14468, loss: 0.1698366403579712\n"
     ]
    },
    {
     "name": "stderr",
     "output_type": "stream",
     "text": [
      " 68%|██████▊   | 14595/21325 [1:21:44<16:09,  6.94it/s]   "
     ]
    },
    {
     "name": "stdout",
     "output_type": "stream",
     "text": [
      "epoch: 0, iteration: 14596, loss: 0.15651848912239075\n"
     ]
    },
    {
     "name": "stderr",
     "output_type": "stream",
     "text": [
      " 69%|██████▉   | 14724/21325 [1:22:34<41:05,  2.68it/s]  "
     ]
    },
    {
     "name": "stdout",
     "output_type": "stream",
     "text": [
      "epoch: 0, iteration: 14724, loss: 0.161428302526474\n"
     ]
    },
    {
     "name": "stderr",
     "output_type": "stream",
     "text": [
      " 70%|██████▉   | 14853/21325 [1:23:33<11:11,  9.64it/s]   "
     ]
    },
    {
     "name": "stdout",
     "output_type": "stream",
     "text": [
      "epoch: 0, iteration: 14853, loss: 0.14017006754875183\n"
     ]
    },
    {
     "name": "stderr",
     "output_type": "stream",
     "text": [
      " 70%|███████   | 14980/21325 [1:24:31<17:31,  6.04it/s]   "
     ]
    },
    {
     "name": "stdout",
     "output_type": "stream",
     "text": [
      "epoch: 0, iteration: 14982, loss: 0.151548370718956\n"
     ]
    },
    {
     "name": "stderr",
     "output_type": "stream",
     "text": [
      " 71%|███████   | 15109/21325 [1:25:31<21:27,  4.83it/s]  "
     ]
    },
    {
     "name": "stdout",
     "output_type": "stream",
     "text": [
      "epoch: 0, iteration: 15110, loss: 0.1385304182767868\n"
     ]
    },
    {
     "name": "stderr",
     "output_type": "stream",
     "text": [
      " 71%|███████▏  | 15237/21325 [1:26:27<33:29,  3.03it/s]  "
     ]
    },
    {
     "name": "stdout",
     "output_type": "stream",
     "text": [
      "epoch: 0, iteration: 15238, loss: 0.18277566134929657\n"
     ]
    },
    {
     "name": "stderr",
     "output_type": "stream",
     "text": [
      " 72%|███████▏  | 15366/21325 [1:27:16<19:41,  5.04it/s]  "
     ]
    },
    {
     "name": "stdout",
     "output_type": "stream",
     "text": [
      "epoch: 0, iteration: 15366, loss: 0.16079887747764587\n"
     ]
    },
    {
     "name": "stderr",
     "output_type": "stream",
     "text": [
      " 73%|███████▎  | 15494/21325 [1:28:16<15:00,  6.47it/s]   "
     ]
    },
    {
     "name": "stdout",
     "output_type": "stream",
     "text": [
      "epoch: 0, iteration: 15494, loss: 0.15411067008972168\n"
     ]
    },
    {
     "name": "stderr",
     "output_type": "stream",
     "text": [
      " 73%|███████▎  | 15622/21325 [1:29:10<09:45,  9.73it/s]   "
     ]
    },
    {
     "name": "stdout",
     "output_type": "stream",
     "text": [
      "epoch: 0, iteration: 15622, loss: 0.16550424695014954\n"
     ]
    },
    {
     "name": "stderr",
     "output_type": "stream",
     "text": [
      " 74%|███████▍  | 15750/21325 [1:30:01<09:50,  9.44it/s]   "
     ]
    },
    {
     "name": "stdout",
     "output_type": "stream",
     "text": [
      "epoch: 0, iteration: 15750, loss: 0.14227651059627533\n"
     ]
    },
    {
     "name": "stderr",
     "output_type": "stream",
     "text": [
      " 74%|███████▍  | 15879/21325 [1:30:54<22:31,  4.03it/s]   "
     ]
    },
    {
     "name": "stdout",
     "output_type": "stream",
     "text": [
      "epoch: 0, iteration: 15879, loss: 0.15108729898929596\n"
     ]
    },
    {
     "name": "stderr",
     "output_type": "stream",
     "text": [
      " 75%|███████▌  | 16008/21325 [1:31:48<09:54,  8.95it/s]   "
     ]
    },
    {
     "name": "stdout",
     "output_type": "stream",
     "text": [
      "epoch: 0, iteration: 16008, loss: 0.15206299722194672\n"
     ]
    },
    {
     "name": "stderr",
     "output_type": "stream",
     "text": [
      " 76%|███████▌  | 16136/21325 [1:32:42<10:34,  8.17it/s]   "
     ]
    },
    {
     "name": "stdout",
     "output_type": "stream",
     "text": [
      "epoch: 0, iteration: 16136, loss: 0.17218786478042603\n"
     ]
    },
    {
     "name": "stderr",
     "output_type": "stream",
     "text": [
      " 76%|███████▋  | 16262/21325 [1:33:35<08:58,  9.40it/s]   "
     ]
    },
    {
     "name": "stdout",
     "output_type": "stream",
     "text": [
      "epoch: 0, iteration: 16264, loss: 0.15451231598854065\n"
     ]
    },
    {
     "name": "stderr",
     "output_type": "stream",
     "text": [
      " 77%|███████▋  | 16391/21325 [1:34:27<12:53,  6.38it/s]  "
     ]
    },
    {
     "name": "stdout",
     "output_type": "stream",
     "text": [
      "epoch: 0, iteration: 16392, loss: 0.1773928552865982\n"
     ]
    },
    {
     "name": "stderr",
     "output_type": "stream",
     "text": [
      " 77%|███████▋  | 16519/21325 [1:35:22<16:28,  4.86it/s]  "
     ]
    },
    {
     "name": "stdout",
     "output_type": "stream",
     "text": [
      "epoch: 0, iteration: 16520, loss: 0.1835508942604065\n"
     ]
    },
    {
     "name": "stderr",
     "output_type": "stream",
     "text": [
      " 78%|███████▊  | 16648/21325 [1:36:14<10:16,  7.59it/s]  "
     ]
    },
    {
     "name": "stdout",
     "output_type": "stream",
     "text": [
      "epoch: 0, iteration: 16648, loss: 0.14505481719970703\n"
     ]
    },
    {
     "name": "stderr",
     "output_type": "stream",
     "text": [
      " 79%|███████▊  | 16776/21325 [1:37:22<10:42,  7.09it/s]   "
     ]
    },
    {
     "name": "stdout",
     "output_type": "stream",
     "text": [
      "epoch: 0, iteration: 16777, loss: 0.14750032126903534\n"
     ]
    },
    {
     "name": "stderr",
     "output_type": "stream",
     "text": [
      " 79%|███████▉  | 16905/21325 [1:38:16<04:52, 15.10it/s]  "
     ]
    },
    {
     "name": "stdout",
     "output_type": "stream",
     "text": [
      "epoch: 0, iteration: 16906, loss: 0.1655094474554062\n"
     ]
    },
    {
     "name": "stderr",
     "output_type": "stream",
     "text": [
      " 80%|███████▉  | 17034/21325 [1:39:11<11:35,  6.17it/s]  "
     ]
    },
    {
     "name": "stdout",
     "output_type": "stream",
     "text": [
      "epoch: 0, iteration: 17034, loss: 0.16292642056941986\n"
     ]
    },
    {
     "name": "stderr",
     "output_type": "stream",
     "text": [
      " 80%|████████  | 17162/21325 [1:40:01<10:04,  6.89it/s]   "
     ]
    },
    {
     "name": "stdout",
     "output_type": "stream",
     "text": [
      "epoch: 0, iteration: 17162, loss: 0.16776548326015472\n"
     ]
    },
    {
     "name": "stderr",
     "output_type": "stream",
     "text": [
      " 81%|████████  | 17289/21325 [1:40:59<09:08,  7.36it/s]   "
     ]
    },
    {
     "name": "stdout",
     "output_type": "stream",
     "text": [
      "epoch: 0, iteration: 17290, loss: 0.16091641783714294\n"
     ]
    },
    {
     "name": "stderr",
     "output_type": "stream",
     "text": [
      " 82%|████████▏ | 17416/21325 [1:41:47<09:31,  6.84it/s]  "
     ]
    },
    {
     "name": "stdout",
     "output_type": "stream",
     "text": [
      "epoch: 0, iteration: 17418, loss: 0.1621837168931961\n"
     ]
    },
    {
     "name": "stderr",
     "output_type": "stream",
     "text": [
      " 82%|████████▏ | 17547/21325 [1:42:45<09:59,  6.30it/s]  "
     ]
    },
    {
     "name": "stdout",
     "output_type": "stream",
     "text": [
      "epoch: 0, iteration: 17547, loss: 0.1573891043663025\n"
     ]
    },
    {
     "name": "stderr",
     "output_type": "stream",
     "text": [
      " 83%|████████▎ | 17674/21325 [1:43:32<11:59,  5.07it/s]  "
     ]
    },
    {
     "name": "stdout",
     "output_type": "stream",
     "text": [
      "epoch: 0, iteration: 17675, loss: 0.18327830731868744\n"
     ]
    },
    {
     "name": "stderr",
     "output_type": "stream",
     "text": [
      " 83%|████████▎ | 17803/21325 [1:44:22<05:04, 11.58it/s]  "
     ]
    },
    {
     "name": "stdout",
     "output_type": "stream",
     "text": [
      "epoch: 0, iteration: 17804, loss: 0.1728220134973526\n"
     ]
    },
    {
     "name": "stderr",
     "output_type": "stream",
     "text": [
      " 84%|████████▍ | 17933/21325 [1:45:15<06:08,  9.20it/s]  "
     ]
    },
    {
     "name": "stdout",
     "output_type": "stream",
     "text": [
      "epoch: 0, iteration: 17933, loss: 0.15015053749084473\n"
     ]
    },
    {
     "name": "stderr",
     "output_type": "stream",
     "text": [
      " 85%|████████▍ | 18060/21325 [1:46:01<06:29,  8.37it/s]  "
     ]
    },
    {
     "name": "stdout",
     "output_type": "stream",
     "text": [
      "epoch: 0, iteration: 18061, loss: 0.1495552957057953\n"
     ]
    },
    {
     "name": "stderr",
     "output_type": "stream",
     "text": [
      " 85%|████████▌ | 18189/21325 [1:46:55<16:07,  3.24it/s]  "
     ]
    },
    {
     "name": "stdout",
     "output_type": "stream",
     "text": [
      "epoch: 0, iteration: 18189, loss: 0.14745450019836426\n"
     ]
    },
    {
     "name": "stderr",
     "output_type": "stream",
     "text": [
      " 86%|████████▌ | 18316/21325 [1:47:46<10:19,  4.86it/s]  "
     ]
    },
    {
     "name": "stdout",
     "output_type": "stream",
     "text": [
      "epoch: 0, iteration: 18317, loss: 0.14980991184711456\n"
     ]
    },
    {
     "name": "stderr",
     "output_type": "stream",
     "text": [
      " 86%|████████▋ | 18445/21325 [1:48:35<06:25,  7.48it/s]  "
     ]
    },
    {
     "name": "stdout",
     "output_type": "stream",
     "text": [
      "epoch: 0, iteration: 18446, loss: 0.16629332304000854\n"
     ]
    },
    {
     "name": "stderr",
     "output_type": "stream",
     "text": [
      " 87%|████████▋ | 18574/21325 [1:49:26<14:13,  3.22it/s]  "
     ]
    },
    {
     "name": "stdout",
     "output_type": "stream",
     "text": [
      "epoch: 0, iteration: 18574, loss: 0.16860835254192352\n"
     ]
    },
    {
     "name": "stderr",
     "output_type": "stream",
     "text": [
      " 88%|████████▊ | 18703/21325 [1:50:25<16:39,  2.62it/s]  "
     ]
    },
    {
     "name": "stdout",
     "output_type": "stream",
     "text": [
      "epoch: 0, iteration: 18703, loss: 0.1482483595609665\n"
     ]
    },
    {
     "name": "stderr",
     "output_type": "stream",
     "text": [
      " 88%|████████▊ | 18830/21325 [1:51:11<04:10,  9.95it/s]  "
     ]
    },
    {
     "name": "stdout",
     "output_type": "stream",
     "text": [
      "epoch: 0, iteration: 18831, loss: 0.1714610606431961\n"
     ]
    },
    {
     "name": "stderr",
     "output_type": "stream",
     "text": [
      " 89%|████████▉ | 18961/21325 [1:52:04<03:08, 12.55it/s]  "
     ]
    },
    {
     "name": "stdout",
     "output_type": "stream",
     "text": [
      "epoch: 0, iteration: 18961, loss: 0.16433162987232208\n"
     ]
    },
    {
     "name": "stderr",
     "output_type": "stream",
     "text": [
      " 90%|████████▉ | 19089/21325 [1:52:57<08:19,  4.48it/s]  "
     ]
    },
    {
     "name": "stdout",
     "output_type": "stream",
     "text": [
      "epoch: 0, iteration: 19089, loss: 0.15079568326473236\n"
     ]
    },
    {
     "name": "stderr",
     "output_type": "stream",
     "text": [
      " 90%|█████████ | 19217/21325 [1:53:48<24:07,  1.46it/s]  "
     ]
    },
    {
     "name": "stdout",
     "output_type": "stream",
     "text": [
      "epoch: 0, iteration: 19217, loss: 0.14205022156238556\n"
     ]
    },
    {
     "name": "stderr",
     "output_type": "stream",
     "text": [
      " 91%|█████████ | 19347/21325 [1:54:48<04:01,  8.20it/s]  "
     ]
    },
    {
     "name": "stdout",
     "output_type": "stream",
     "text": [
      "epoch: 0, iteration: 19347, loss: 0.1506427526473999\n"
     ]
    },
    {
     "name": "stderr",
     "output_type": "stream",
     "text": [
      " 91%|█████████▏| 19476/21325 [1:55:45<03:06,  9.90it/s]  "
     ]
    },
    {
     "name": "stdout",
     "output_type": "stream",
     "text": [
      "epoch: 0, iteration: 19477, loss: 0.15843670070171356\n"
     ]
    },
    {
     "name": "stderr",
     "output_type": "stream",
     "text": [
      " 92%|█████████▏| 19604/21325 [1:56:31<02:33, 11.23it/s]  "
     ]
    },
    {
     "name": "stdout",
     "output_type": "stream",
     "text": [
      "epoch: 0, iteration: 19605, loss: 0.1570667326450348\n"
     ]
    },
    {
     "name": "stderr",
     "output_type": "stream",
     "text": [
      " 93%|█████████▎| 19735/21325 [1:57:33<13:46,  1.92it/s]  "
     ]
    },
    {
     "name": "stdout",
     "output_type": "stream",
     "text": [
      "epoch: 0, iteration: 19735, loss: 0.1679469347000122\n"
     ]
    },
    {
     "name": "stderr",
     "output_type": "stream",
     "text": [
      " 93%|█████████▎| 19866/21325 [1:58:33<04:00,  6.08it/s]  "
     ]
    },
    {
     "name": "stdout",
     "output_type": "stream",
     "text": [
      "epoch: 0, iteration: 19866, loss: 0.1733582615852356\n"
     ]
    },
    {
     "name": "stderr",
     "output_type": "stream",
     "text": [
      " 94%|█████████▍| 19995/21325 [1:59:29<03:40,  6.03it/s]  "
     ]
    },
    {
     "name": "stdout",
     "output_type": "stream",
     "text": [
      "epoch: 0, iteration: 19995, loss: 0.1467379480600357\n"
     ]
    },
    {
     "name": "stderr",
     "output_type": "stream",
     "text": [
      " 94%|█████████▍| 20121/21325 [2:00:17<03:26,  5.83it/s]  "
     ]
    },
    {
     "name": "stdout",
     "output_type": "stream",
     "text": [
      "epoch: 0, iteration: 20123, loss: 0.1670229136943817\n"
     ]
    },
    {
     "name": "stderr",
     "output_type": "stream",
     "text": [
      " 95%|█████████▍| 20252/21325 [2:01:12<05:43,  3.12it/s]  "
     ]
    },
    {
     "name": "stdout",
     "output_type": "stream",
     "text": [
      "epoch: 0, iteration: 20252, loss: 0.14732804894447327\n"
     ]
    },
    {
     "name": "stderr",
     "output_type": "stream",
     "text": [
      " 96%|█████████▌| 20379/21325 [2:02:01<03:16,  4.82it/s]  "
     ]
    },
    {
     "name": "stdout",
     "output_type": "stream",
     "text": [
      "epoch: 0, iteration: 20380, loss: 0.15044447779655457\n"
     ]
    },
    {
     "name": "stderr",
     "output_type": "stream",
     "text": [
      " 96%|█████████▌| 20507/21325 [2:02:56<01:12, 11.25it/s]  "
     ]
    },
    {
     "name": "stdout",
     "output_type": "stream",
     "text": [
      "epoch: 0, iteration: 20508, loss: 0.1405458152294159\n"
     ]
    },
    {
     "name": "stderr",
     "output_type": "stream",
     "text": [
      " 97%|█████████▋| 20635/21325 [2:03:48<01:39,  6.95it/s]"
     ]
    },
    {
     "name": "stdout",
     "output_type": "stream",
     "text": [
      "epoch: 0, iteration: 20636, loss: 0.17533892393112183\n"
     ]
    },
    {
     "name": "stderr",
     "output_type": "stream",
     "text": [
      " 97%|█████████▋| 20764/21325 [2:04:40<02:05,  4.47it/s]"
     ]
    },
    {
     "name": "stdout",
     "output_type": "stream",
     "text": [
      "epoch: 0, iteration: 20764, loss: 0.14934562146663666\n"
     ]
    },
    {
     "name": "stderr",
     "output_type": "stream",
     "text": [
      " 98%|█████████▊| 20893/21325 [2:05:44<02:15,  3.18it/s]  "
     ]
    },
    {
     "name": "stdout",
     "output_type": "stream",
     "text": [
      "epoch: 0, iteration: 20893, loss: 0.16148704290390015\n"
     ]
    },
    {
     "name": "stderr",
     "output_type": "stream",
     "text": [
      " 99%|█████████▊| 21021/21325 [2:06:40<01:02,  4.87it/s]  "
     ]
    },
    {
     "name": "stdout",
     "output_type": "stream",
     "text": [
      "epoch: 0, iteration: 21022, loss: 0.19505535066127777\n"
     ]
    },
    {
     "name": "stderr",
     "output_type": "stream",
     "text": [
      " 99%|█████████▉| 21151/21325 [2:07:41<00:59,  2.95it/s]"
     ]
    },
    {
     "name": "stdout",
     "output_type": "stream",
     "text": [
      "epoch: 0, iteration: 21151, loss: 0.17896968126296997\n"
     ]
    },
    {
     "name": "stderr",
     "output_type": "stream",
     "text": [
      "100%|█████████▉| 21280/21325 [2:08:44<00:07,  6.36it/s]"
     ]
    },
    {
     "name": "stdout",
     "output_type": "stream",
     "text": [
      "epoch: 0, iteration: 21280, loss: 0.1609634906053543\n"
     ]
    },
    {
     "name": "stderr",
     "output_type": "stream",
     "text": [
      "100%|█████████▉| 21323/21325 [2:09:25<00:00, 10.08it/s]"
     ]
    },
    {
     "name": "stdout",
     "output_type": "stream",
     "text": [
      "epoch: 0, iteration: 21324, loss: 0.15466032922267914\n"
     ]
    },
    {
     "name": "stderr",
     "output_type": "stream",
     "text": [
      "100%|██████████| 21325/21325 [2:09:35<00:00,  1.47s/it]\n"
     ]
    }
   ],
   "source": [
    "model = train_model(model, train, optimizer, word2idx_dict, args, args.batch_size)"
   ]
  },
  {
   "cell_type": "code",
   "execution_count": 32,
   "metadata": {},
   "outputs": [],
   "source": [
    "def test_model(model, data):\n",
    "    acc, total = 0, 0\n",
    "    for d in data:\n",
    "        q = d[0]\n",
    "        print('Questions:', ' '.join(q))\n",
    "        labels = d[1]\n",
    "        cands = d[2]\n",
    "\n",
    "        # preprare answer labels\n",
    "        label_indices = [cands.index(l) for l in labels if l in cands]\n",
    "\n",
    "        # build data\n",
    "        q = util.make_vector([q], w2i, len(q))\n",
    "        cands = [l2at[c] for c in cands] # id to text\n",
    "        max_cand_len = min(200, max([len(c) for c in cands]))\n",
    "        cands = util.make_vector(cands, w2i, max_cand_len)\n",
    "\n",
    "        # predict\n",
    "        scores = [model(q, c.unsqueeze(0)).data[0] for c in cands]\n",
    "        pred_idx = np.argmax(scores)\n",
    "        if pred_idx in label_indices:\n",
    "            print('Correct Prediciton')\n",
    "            acc += 1\n",
    "        else:\n",
    "            print('Wrong Prediction')\n",
    "        total += 1\n",
    "    print('Test Acc:', 100*acc/total, '%')"
   ]
  },
  {
   "cell_type": "code",
   "execution_count": 33,
   "metadata": {
    "scrolled": true
   },
   "outputs": [
    {
     "name": "stdout",
     "output_type": "stream",
     "text": [
      "q How To Get Health Insurance When Pregnant ?\n",
      "wrong\n",
      "q Can A Corporation Pay For Disability Insurance ?\n",
      "wrong\n",
      "q Will Homeowners Insurance Cover A Tree Falling On My Car ?\n",
      "wrong\n",
      "q Where To Start Looking For Health Insurance ?\n",
      "wrong\n",
      "q What Is Medigap Blue ?\n",
      "wrong\n",
      "q Is Workers Comp The Same As Disability Insurance ?\n",
      "wrong\n",
      "q Is Disability Insurance Necessary ?\n",
      "wrong\n",
      "q How Much Optional Life Insurance Do I Need ?\n",
      "wrong\n",
      "q What Is A Health Insurance Claim Form 1500 ?\n",
      "wrong\n",
      "q Can You Borrow Money From Renters Insurance ?\n",
      "wrong\n",
      "q Where To Get Home Insurance Quote ?\n",
      "wrong\n",
      "q Why Buy Variable Life Insurance ?\n",
      "wrong\n",
      "q How Long To Plan For Retirement ?\n",
      "wrong\n",
      "q Who Is The Least Expensive Auto Insurance ?\n",
      "wrong\n",
      "q What Is Centers For Medicare And Medicaid ?\n",
      "wrong\n",
      "q How To File A Renters Insurance Claim ?\n",
      "wrong\n",
      "q What Do I Need To Know About Buying Life Insurance ?\n",
      "wrong\n",
      "q What Is The Biggest Car Insurance Company In Us ?\n",
      "wrong\n",
      "q Does Home Owners Insurance Cover Pool Damage ?\n",
      "wrong\n",
      "q Why Do Smokers Pay More For Life Insurance ?\n",
      "wrong\n",
      "q Can You Cash Out Your 401K ?\n",
      "wrong\n",
      "q What Is The Best Health Insurance For Small Business Owners ?\n",
      "wrong\n",
      "q What Basics Do I Need To Know About Disability Insurance ?\n",
      "wrong\n",
      "q Is Long Term Care Insurance Worth The Expense ?\n",
      "wrong\n",
      "q What Is The Role Of A Life Insurance Underwriter ?\n",
      "wrong\n",
      "q Which Individual Health Insurance Covers Pregnancy ?\n",
      "wrong\n",
      "q Will A Pellet Stove Increase Homeowners Insurance ?\n",
      "wrong\n",
      "q How Can I Reduce My Auto Insurance ?\n",
      "correct\n",
      "q Why Should You Buy Long Term Care Insurance ?\n",
      "wrong\n",
      "q What Are Some Functions Of Life Insurance ?\n",
      "wrong\n",
      "q Does Medicare Cover Januvia ?\n",
      "wrong\n",
      "q Can I Get Health Insurance If I Am Obese ?\n",
      "wrong\n",
      "q What Does Renters Insurance Not Cover ?\n",
      "wrong\n",
      "q Why Is Universal Life Insurance Bad ?\n",
      "wrong\n",
      "q How Long Will Medicare Pay For A SNF ?\n",
      "correct\n",
      "q Does Homeowners Insurance Cover Renters ?\n",
      "wrong\n",
      "q Does Renters Insurance Cover The House ?\n",
      "wrong\n",
      "q When Did Annuities Start ?\n",
      "wrong\n",
      "q Can Medicaid Take Your Life Insurance ?\n",
      "wrong\n",
      "q Is Life Insurance An Inheritance ?\n",
      "wrong\n",
      "q Does Medicare Cover Emergency Room Visits ?\n",
      "wrong\n",
      "q What Does Car Insurance Group 5 Mean ?\n",
      "wrong\n",
      "q What Is A Renters Insurance Declaration Page ?\n",
      "wrong\n",
      "q What Life Insurance Companies Have Failed ?\n",
      "wrong\n",
      "q Who Benefits From Whole Life Insurance ?\n",
      "wrong\n",
      "q What Job Is Cheapest For Car Insurance ?\n",
      "wrong\n",
      "q What Is Key Life Insurance ?\n",
      "correct\n",
      "q When Do I Enroll In Medicare ?\n",
      "wrong\n",
      "q What Is Usually Covered In Renters Insurance ?\n",
      "wrong\n",
      "q Where Do I Sign Up For Medicare Online ?\n",
      "wrong\n",
      "q Does Home Insurance Cover Robbery ?\n",
      "wrong\n",
      "q What Are SPIA Annuities ?\n",
      "wrong\n",
      "q When Does Medicare Part D Start ?\n",
      "wrong\n",
      "q Do Annuities Have Beneficiaries ?\n",
      "wrong\n",
      "q What Is Required For Renters Insurance ?\n",
      "wrong\n",
      "q What Is Employer Sponsored Retirement Plan ?\n",
      "wrong\n",
      "q Can Health Insurance Premiums Be Claimed On Taxes ?\n",
      "wrong\n",
      "q Can Auto Insurance Be Deducted On Taxes ?\n",
      "wrong\n",
      "q Who Is Automatically Enrolled In Medicare ?\n",
      "wrong\n",
      "q What Is The Right Age To Buy Long Term Care Insurance ?\n",
      "wrong\n",
      "q Can I Get Long Term Care Insurance For My Parents ?\n",
      "wrong\n",
      "q Is GST Applicable To Life Insurance ?\n",
      "wrong\n",
      "q When Is The Next Open Enrollment For Medicare ?\n",
      "wrong\n",
      "q Where To Apply For Medicare Part B Benefits ?\n",
      "wrong\n",
      "q Can Disability Insurance Cover Maternity Leave ?\n",
      "wrong\n",
      "q When To Sign Up For Medicare Part A ?\n",
      "wrong\n",
      "q What Auto Insurance Does Not Do A Credit Check ?\n",
      "wrong\n",
      "q How Much Should I Spend On Disability Insurance ?\n",
      "wrong\n",
      "q What Should Life Insurance Cost ?\n",
      "wrong\n",
      "q How To Code Flu Vaccine For Medicare ?\n",
      "correct\n",
      "q How Much Disability Benefits Will I Receive ?\n",
      "wrong\n",
      "q Is Durable Medical Equipment Covered By Medicare ?\n",
      "wrong\n",
      "q When To File A Claim With Homeowners Insurance ?\n",
      "wrong\n",
      "q How Much Renters Insurance Should I Take Out ?\n",
      "wrong\n",
      "q Can You Get Life Insurance With Cancer ?\n",
      "wrong\n",
      "q Should I Get Health Insurance Through Work ?\n",
      "wrong\n",
      "q What Life Insurance Is Best Term Or Whole ?\n",
      "wrong\n",
      "q Does Homeowners Insurance Cover Vandalism ?\n",
      "wrong\n",
      "q What Is Life Insurance Brokerage ?\n",
      "correct\n",
      "q Can You Get Car Insurance Over The Internet ?\n",
      "wrong\n",
      "q How Do I Know How Much Renters Insurance I Need ?\n",
      "wrong\n",
      "q Does Federal Government Offer Short Term Disability Insurance ?\n",
      "wrong\n",
      "q How Long Does It Take To Process A Renters Insurance Claim ?\n",
      "wrong\n",
      "q Who Should I Talk To About Life Insurance ?\n",
      "wrong\n",
      "q What Do You Need To Know About Life Insurance ?\n",
      "wrong\n",
      "q Does Medicare Pay For Circumcision ?\n",
      "wrong\n",
      "q What Does Medicare As Secondary Cover ?\n",
      "wrong\n",
      "q Legally Can A Licensed Agent Sell Life Insurance To Themselves ?\n",
      "wrong\n",
      "q How Much Does Life Insurance Cost ?\n",
      "wrong\n",
      "q When Can I Change My Medicare Part D ?\n",
      "wrong\n",
      "q What Do Health Insurance Agents Make ?\n",
      "correct\n",
      "q Does Every State Require Car Insurance ?\n",
      "wrong\n",
      "q How Much Commission Does Health Insurance Agent Make ?\n",
      "wrong\n",
      "q Can I Get Health Insurance If I Have Hepatitis C ?\n",
      "wrong\n",
      "q Why Are Womens Car Insurance Cheaper ?\n",
      "wrong\n",
      "q How Are Annuities Invested ?\n",
      "wrong\n",
      "q What Is The Monthly Cost For Medicare Part D ?\n",
      "wrong\n",
      "q What Do You Need In Renters Insurance ?\n",
      "wrong\n",
      "q Can My Auto Insurance Company Cancel My Policy ?\n",
      "wrong\n",
      "q How Much Will I Get Back From Medicare For An Ultrasound ?\n",
      "wrong\n",
      "q Is Voluntary Life Insurance A Pretax Deduction ?\n",
      "wrong\n",
      "q Is Sewer Line Replacement Covered By Homeowners Insurance ?\n",
      "wrong\n",
      "q What Are Medigap Plans ?\n",
      "wrong\n",
      "q What Is Waiting Period In Disability Insurance ?\n",
      "wrong\n",
      "q What Does A Health Insurance Statement Look Like ?\n",
      "wrong\n",
      "q How Do You Buy Life Insurance ?\n",
      "wrong\n",
      "q How Much Is Car Insurance For A Porsche Boxster ?\n",
      "wrong\n",
      "q How Long Does It Take To Collect A Life Insurance Payment ?\n",
      "wrong\n",
      "q Can Car Insurance Cover Repairs ?\n",
      "wrong\n",
      "q What Is A Tax Qualified Long Term Care Insurance Plan ?\n",
      "wrong\n",
      "q Is Health Insurance Included In W2 Wages ?\n",
      "wrong\n",
      "q Does Auto Insurance Cover Uhaul ?\n",
      "wrong\n",
      "q Who Is Covered Under Disability Insurance ?\n",
      "wrong\n",
      "q Do I Need Renters Insurance In Massachusetts ?\n",
      "wrong\n",
      "q How Do You Buy Car Insurance In Ohio ?\n",
      "wrong\n",
      "q How Much Life Insurance Can I Get Without A Medical Exam ?\n",
      "correct\n",
      "q How To Accept Long Term Care Insurance ?\n",
      "wrong\n",
      "q What Age Does Term Life Insurance Come To An End ?\n",
      "wrong\n",
      "q Is Life Insurance Public Record ?\n",
      "wrong\n",
      "q Can Illegal Immigrants Get Private Health Insurance ?\n",
      "wrong\n",
      "q Can You Borrow From Veterans Group Life Insurance ?\n",
      "wrong\n",
      "q How To Get Health Insurance Under Obamacare ?\n",
      "wrong\n",
      "q What Is Covered Under Short Term Disability Insurance ?\n",
      "wrong\n",
      "q How Much Can You Make Selling Life Insurance ?\n",
      "wrong\n",
      "q Does Life Insurance Payout For Drug Overdose ?\n",
      "wrong\n",
      "q Can Annuities Be Willed ?\n",
      "wrong\n",
      "q Why Is My Car Insurance Deductible So High ?\n",
      "correct\n",
      "q What Does Elimination Period Mean For Disability Insurance ?\n",
      "wrong\n",
      "q How Much Is VA Life Insurance ?\n",
      "correct\n",
      "q How Can A Self Employed Person Save For Retirement ?\n",
      "wrong\n",
      "q Can You Drive A Car Without Insurance On It ?\n",
      "wrong\n",
      "q When Is Life Insurance Necessary ?\n",
      "wrong\n",
      "q Can You Rollover A Non Qualified Retirement Plan ?\n",
      "wrong\n",
      "q What Is A Short Term Health Insurance Policy ?\n",
      "wrong\n",
      "q How To Compare Home Insurance Rates ?\n",
      "wrong\n",
      "q What Do I Need To Do To Enroll In Medicare ?\n",
      "wrong\n",
      "q Can Life Insurance Companies Drop You ?\n",
      "wrong\n",
      "q Is Januvia Covered By Medicare ?\n",
      "correct\n",
      "q How Much To Pay For Homeowners Insurance ?\n",
      "wrong\n",
      "q What Factors Should Be Considered When Purchasing Long Term Care Insurance ?\n",
      "wrong\n",
      "q Which Health Insurance Is Best For Federal Employee ?\n",
      "wrong\n",
      "q Who Qualifies For Disability Insurance ?\n",
      "wrong\n",
      "q Does State Farm Sell Disability Insurance ?\n",
      "wrong\n",
      "q Who Is The Grantor Of An Irrevocable Life Insurance Trust ?\n",
      "correct\n",
      "q How do I know what conditions are covered on a critical illness plan ?\n",
      "wrong\n",
      "q Will Health Insurance Pay For Implant Removal ?\n",
      "wrong\n",
      "q Does Health Insurance Cover Stepchildren ?\n",
      "wrong\n",
      "q Which Is More Expensive Car Or Motorcycle Insurance ?\n",
      "wrong\n",
      "q How Many Different Types Of Annuities Are There ?\n",
      "wrong\n",
      "q What Is Metlife Long Term Care Insurance ?\n",
      "wrong\n",
      "q Is It Ethical To Force People To Have Health Insurance ?\n",
      "wrong\n",
      "q Is Homeowners Insurance Mandatory ?\n",
      "wrong\n",
      "q What Is The Average Disability Insurance Cost ?\n",
      "wrong\n",
      "q How Much Is Average Life Insurance ?\n",
      "wrong\n",
      "q Is A Life Insurance Beneficiary Responsible For Debt ?\n"
     ]
    },
    {
     "name": "stdout",
     "output_type": "stream",
     "text": [
      "wrong\n",
      "q Can I Get Life Insurance If I Have Epilepsy ?\n",
      "wrong\n",
      "q What Does Health Insurance Protect You From ?\n",
      "wrong\n",
      "q Can Felons Buy Life Insurance ?\n",
      "wrong\n",
      "q How Many People Go Without Health Insurance ?\n",
      "wrong\n",
      "q What 's The Difference Between Whole Life Insurance And Endowment Insurance ?\n",
      "wrong\n",
      "q Does Renters Insurance Cover Hurricanes\n",
      "wrong\n",
      "q Can Health Insurance Charge More For Smokers ?\n",
      "wrong\n",
      "q Why Is Dental Care Not Covered By Medicare ?\n",
      "wrong\n",
      "q Where Can I Get Health Insurance In Georgia ?\n",
      "wrong\n",
      "q What Does Medicare Voucher System Mean ?\n",
      "wrong\n",
      "q Does Life Insurance Expire At A Certain Age ?\n",
      "wrong\n",
      "q Does Life Insurance Cover AD&D ?\n",
      "wrong\n",
      "q What Glucose Meter Is Covered By Medicare ?\n",
      "wrong\n",
      "q Who Is Western National Life Insurance Company ?\n",
      "wrong\n",
      "q How Much Is Medicare Per Year ?\n",
      "wrong\n",
      "q How Much Is A Term Life Insurance Policy ?\n",
      "wrong\n",
      "q Why Was Universal Life Insurance Created ?\n",
      "wrong\n",
      "q How Is Medicare Advantage Affected By Obamacare ?\n",
      "wrong\n",
      "q What The Best Life Insurance Policy To Get ?\n",
      "wrong\n",
      "q Who Is The Insured In A Life Insurance Policy ?\n",
      "wrong\n",
      "q What Is Aetna Medicare Advantage Plan ?\n",
      "correct\n",
      "q Can You Cancel Car Insurance At Any Time ?\n",
      "wrong\n",
      "q What Does Surrender Value Mean On A Life Insurance Policy ?\n",
      "wrong\n",
      "q What Should Be Included In Your Retirement Plan ?\n",
      "wrong\n",
      "q Why Would You Be Turned Down For Life Insurance ?\n",
      "wrong\n",
      "q Does State Farm Auto Insurance Cover Rental Cars ?\n",
      "wrong\n",
      "q Does Medicare Cover CPAP Machines ?\n",
      "wrong\n",
      "q Is Whole Life Insurance Ever A Good Idea ?\n",
      "wrong\n",
      "q Does Car Insurance Cover Dwi ?\n",
      "wrong\n",
      "q How Does Life Insurance Affect Taxes ?\n",
      "wrong\n",
      "q What Is Bankers Life Insurance ?\n",
      "correct\n",
      "q Can You Get Auto Insurance Without Owning A Car ?\n",
      "wrong\n",
      "q Can A Minor Be A Life Insurance Beneficiary ?\n",
      "wrong\n",
      "q What Is CMFG Life Insurance ?\n",
      "wrong\n",
      "q Why Do Car Insurance Rates Go Up ?\n",
      "wrong\n",
      "q What Is Medicare Plan J ?\n",
      "wrong\n",
      "q Can I Have Medicare And HDHP ?\n",
      "wrong\n",
      "q Why Not Buy Whole Life Insurance ?\n",
      "wrong\n",
      "q How Do Medicare Supplements Work ?\n",
      "wrong\n",
      "q Can You Claim Life Insurance As A Tax Deduction ?\n",
      "wrong\n",
      "q Can I Transfer My Car Insurance To A Rental Car ?\n",
      "wrong\n",
      "q Can I Get A Life Insurance Policy If I Am Pregnant ?\n",
      "wrong\n",
      "q Is Home Insurance Required In Vermont ?\n",
      "wrong\n",
      "q Do I Need Medigap If I Have Medicare Advantage ?\n",
      "wrong\n",
      "q When Can You Borrow From Whole Life Insurance ?\n",
      "wrong\n",
      "q How Much Renters Insurance Should You Buy ?\n",
      "wrong\n",
      "q What Is A Good Rate For Term Life Insurance ?\n",
      "wrong\n",
      "q What Is Key Employee Life Insurance ?\n",
      "wrong\n",
      "q Can I Buy A Life Insurance Policy On My Brother ?\n",
      "wrong\n",
      "q Is Renters Insurance Legally Required ?\n",
      "wrong\n",
      "q How Can I Find Out If Someone Has Auto Insurance ?\n",
      "wrong\n",
      "q Will My Health Insurance Cover Gastric Bypass ?\n",
      "correct\n",
      "q What are my options if insurance carrier refuses to add my teen daughter to family auto policy ?\n",
      "wrong\n",
      "q What Is Disability Insurance Elimination Period ?\n",
      "wrong\n",
      "q Are Life Insurance Proceeds Protected From Creditors In Indiana ?\n",
      "wrong\n",
      "q What Is The Penalty For Driving Without Car Insurance In Kentucky ?\n",
      "wrong\n",
      "q How Does Cancer Insurance Work ?\n",
      "wrong\n",
      "q How Much Is Individual Health Insurance ?\n",
      "wrong\n",
      "q What Should Renters Insurance Include ?\n",
      "wrong\n",
      "q What Is The Federal Employee Retirement Plan ?\n",
      "wrong\n",
      "q What Type Of Hospital Bed Will Medicare Pay For ?\n",
      "wrong\n",
      "q What Does The Medicare Suffix T Mean ?\n",
      "wrong\n",
      "q How To Claim On Renters Insurance ?\n",
      "wrong\n",
      "q Does Owning A Trampoline Affect Homeowners Insurance ?\n",
      "wrong\n",
      "q How Long Does Cobra Health Insurance Last ?\n",
      "wrong\n",
      "q What Is The Purpose Of A Life Insurance Policy ?\n",
      "wrong\n",
      "q How To Claim A Life Insurance Policy ?\n",
      "wrong\n",
      "q What Does An Auto Insurance Deductible Mean ?\n",
      "wrong\n",
      "q Can You Buy Short Term Disability Insurance ?\n",
      "wrong\n",
      "q Can I Get Life Insurance For My Parents ?\n",
      "wrong\n",
      "q How To Compare Home Insurance ?\n",
      "wrong\n",
      "q How To Cancel Travelers Renters Insurance ?\n",
      "wrong\n",
      "q Does Term Life Insurance Have Cash Value ?\n",
      "wrong\n",
      "q What Is Renters Insurance Good For ?\n",
      "wrong\n",
      "q What Is Guaranteed Cash Value For Life Insurance ?\n",
      "wrong\n",
      "q Who Has The Best Health Insurance In Ohio ?\n",
      "wrong\n",
      "q Does My Father Have Life Insurance ?\n",
      "wrong\n",
      "q What Happens When You Cancel A Life Insurance Policy ?\n",
      "wrong\n",
      "q Can I Add My Mother To My Health Insurance ?\n",
      "wrong\n",
      "q What License Do I Need To Sell Annuities ?\n",
      "wrong\n",
      "q What Is Covered With Critical Illness Insurance ?\n",
      "wrong\n",
      "q What Happens When My Term Life Insurance Ends ?\n",
      "wrong\n",
      "q Is Voluntary Long Term Disability Insurance Worth It ?\n",
      "wrong\n",
      "q Does my sister get the insurance policy that I carry on my mom when she passes ?\n",
      "wrong\n",
      "q Does Health Insurance Actually Make People Healthier ?\n",
      "wrong\n",
      "q How Do I Calculate How Much Life Insurance I Need ?\n",
      "wrong\n",
      "q Can Life Insurance Proceeds Be Paid To A Minor ?\n",
      "wrong\n",
      "q What Is A Target Premium On A Universal Life Insurance Policy ?\n",
      "wrong\n",
      "q How To Offer Health Insurance To Employees ?\n",
      "wrong\n",
      "q What Does Supplemental Life Insurance Mean ?\n",
      "wrong\n",
      "q Can I Sue My Auto Insurance Company ?\n",
      "wrong\n",
      "q Does The Military Have A Retirement Plan ?\n",
      "wrong\n",
      "q Who Offers The Best Long Term Care Insurance ?\n",
      "wrong\n",
      "q When Is Disability Insurance Worth It ?\n",
      "wrong\n",
      "q Can You Drop A Dependent From My Health Insurance ?\n",
      "wrong\n",
      "q Does Medicare Plan AB Pay For Total Knee Replacement In 2014 ?\n",
      "wrong\n",
      "q Does Renters Insurance Cover Air Conditioners ?\n",
      "wrong\n",
      "q How Much Is Health Insurance For A Married Couple ?\n",
      "wrong\n",
      "q When To Drop Universal Life Insurance ?\n",
      "wrong\n",
      "q Will Health Insurance Pay For Wisdom Teeth Removal ?\n",
      "wrong\n",
      "q Can Diabetics Get Long Term Care Insurance ?\n",
      "wrong\n",
      "q Will Medicare Pay For A Psychologist ?\n",
      "wrong\n",
      "q Can You Apply For A Medicare Card Online ?\n",
      "wrong\n",
      "q What Qualifications Does Someone Have To Meet To Receive Disability Coverage ?\n",
      "wrong\n",
      "q Can You Get Life Insurance If You 're Pregnant ?\n",
      "wrong\n",
      "q What Health Insurance Covers Artificial Insemination ?\n",
      "wrong\n",
      "q Is Critical Illness Insurance Worthwhile ?\n",
      "wrong\n",
      "q At What Age Does Life Insurance Go Up ?\n",
      "wrong\n",
      "q What Is Life Insurance Cash Surrender Value ?\n",
      "correct\n",
      "q Why Does Life Insurance Cost So Much In Nevada ?\n",
      "wrong\n",
      "q Why Should You Have Health Insurance ?\n",
      "wrong\n",
      "q How Much Is A Medicare Levy Surcharge ?\n",
      "wrong\n",
      "q How Much Does Life Insurance Typically Cost ?\n",
      "wrong\n",
      "q Can I Add My Father To My Health Insurance ?\n",
      "correct\n",
      "q How Does Social Security Fit In A Retirement Plan ?\n",
      "wrong\n",
      "q How Do Life Insurance Companies Test For Smoking ?\n",
      "wrong\n",
      "q Is My Bike Covered Under Renters Insurance ?\n",
      "wrong\n",
      "q Will I Get A Refund If I Cancel My Car Insurance ?\n",
      "wrong\n",
      "q Who Has The Cheapest Term Life Insurance ?\n",
      "wrong\n",
      "q Does Medicare Part A Cover Prescription Drugs ?\n",
      "wrong\n",
      "q How Does Life Insurance Work If I Die ?\n",
      "wrong\n",
      "q Who To Buy Renters Insurance From ?\n",
      "wrong\n",
      "q Who Owns New York Life Insurance ?\n",
      "wrong\n",
      "q What Does The Letter On My Medicare Card Mean ?\n",
      "correct\n",
      "q How Much Does A Claim Affect Car Insurance ?\n",
      "wrong\n",
      "q How Much Auto Insurance Is Required In Iowa ?\n",
      "wrong\n",
      "q How Do I Contact Medicare As A Provider ?\n",
      "wrong\n",
      "q Is Aflac Long Term Care Insurance ?\n",
      "wrong\n",
      "q How Much Does Homeowners Insurance Go Up With A Pool ?\n",
      "wrong\n",
      "q Is Military Retired Pay A Qualified Retirement Plan ?\n",
      "wrong\n",
      "q Should You Save For Retirement Or Pay Off Debt ?\n",
      "wrong\n",
      "q Is Long Term Care Insurance Payments Tax Deductible ?\n",
      "wrong\n",
      "q Who Has The Best Retirement Plan ?\n",
      "wrong\n",
      "q What does it mean when you have a insurance policy that says cash value 8000 and face value 16000 ?\n",
      "wrong\n",
      "q What Is A Good Homeowners Insurance Deductible ?\n",
      "wrong\n",
      "q What Is The Biggest Life Insurance Company ?\n",
      "wrong\n",
      "q Does Asthma Affect Life Insurance ?\n",
      "wrong\n",
      "q Is Van Insurance Cheaper Than Car Insurance ?\n",
      "wrong\n",
      "q Why Is It Important To Start A Retirement Plan As Soon As Possible ?\n",
      "wrong\n",
      "q What Is Dwelling Coverage In Home Insurance ?\n",
      "wrong\n",
      "q How To Get A Tummy Tuck On Medicare ?\n",
      "wrong\n",
      "q How To Determine How Much You Need For Life Insurance ?\n",
      "wrong\n",
      "q Does Car Insurance Build Your Credit ?\n",
      "wrong\n",
      "q Does Life Insurance Pay For Death By Natural Causes ?\n",
      "correct\n",
      "q How Much Is Home Insurance Every Month ?\n",
      "wrong\n",
      "q Does Home Insurance Cover Sinkholes ?\n",
      "wrong\n",
      "q Why Was My Health Insurance Application Denied ?\n",
      "wrong\n",
      "q What To Ask When Buying Life Insurance ?\n",
      "wrong\n",
      "q How Much Insurance Money Will I Get For A Totaled Car ?\n",
      "wrong\n",
      "q What Is A Typical Home Insurance Cost ?\n",
      "wrong\n",
      "q What Is The Difference Between A Variable Annuity And Variable Life Insurance ?\n"
     ]
    },
    {
     "name": "stdout",
     "output_type": "stream",
     "text": [
      "wrong\n",
      "q Is Homeowners Insurance A Waste Of Money ?\n",
      "wrong\n",
      "q What Is The Best Medigap Insurance Company ?\n",
      "wrong\n",
      "q How To File A Claim With Home Insurance ?\n",
      "wrong\n",
      "q How To Write An Appeal Letter To Health Insurance ?\n",
      "wrong\n",
      "q Can You Negotiate Life Insurance Rates ?\n",
      "wrong\n",
      "q How Soon Should I Apply For Medicare ?\n",
      "wrong\n",
      "q Does My Renters Insurance Cover My Roommate ?\n",
      "wrong\n",
      "q Does Renters Insurance Cover A Broken Refrigerator ?\n",
      "wrong\n",
      "q Who Should Enroll In Medicare Part B ?\n",
      "wrong\n",
      "q How Long Can Children stay On Parents Auto Insurance ?\n",
      "wrong\n",
      "q Does AAA Offer Homeowners Insurance ?\n",
      "wrong\n",
      "q Who Has The Best Whole Life Insurance Rates ?\n",
      "wrong\n",
      "q What Does Dave Ramsey Say About Cancer Insurance ?\n",
      "wrong\n",
      "q Will Annuity Rates Improve In The Future ?\n",
      "wrong\n",
      "q When Do Companies Have To Offer Health Insurance ?\n",
      "wrong\n",
      "q Does Homeowners Insurance Cover Raccoon Damage ?\n",
      "wrong\n",
      "q What Does Annuity Due Mean ?\n",
      "wrong\n",
      "q What Does The Bible Say About Life Insurance ?\n",
      "wrong\n",
      "q Do You Need Home Insurance Before Closing ?\n",
      "wrong\n",
      "q Who May A Single Premium Immediate Annuity Be Appropriate For ?\n",
      "wrong\n",
      "q How Much Does Life Insurance Cost For A 40 Year Old ?\n",
      "wrong\n",
      "q Is Long Term Care Insurance Premium Deductible ?\n",
      "wrong\n",
      "q Does Health Insurance Cover Second Opinions ?\n",
      "wrong\n",
      "q How Much Is Health Insurance In Retirement ?\n",
      "wrong\n",
      "q Who Offers Medigap Insurance ?\n",
      "wrong\n",
      "q Do Life Insurance Proceeds Go Into Estate ?\n",
      "wrong\n",
      "q What Is Private Health Insurance ?\n",
      "wrong\n",
      "q Why Would I Be Refused Life Insurance ?\n",
      "wrong\n",
      "q What Is The Cost Of Part D Medicare ?\n",
      "wrong\n",
      "q What Are The Best Annuities To Buy ?\n",
      "wrong\n",
      "q What Does A Fixed Annuity Cost ?\n",
      "wrong\n",
      "q Where To Find Individual Health Insurance ?\n",
      "wrong\n",
      "q What Is The Average Homeowners Insurance Cost Per Month ?\n",
      "wrong\n",
      "q What Is Voluntary Deductible In Car Insurance ?\n",
      "wrong\n",
      "q Will Medicare Pay For Liposuction ?\n",
      "wrong\n",
      "q How Do I Meet My Health Insurance Deductible ?\n",
      "wrong\n",
      "q Does Medicare Pay For Urgent Care ?\n",
      "wrong\n",
      "q Does Homeowners Insurance Cover Pest Removal ?\n",
      "wrong\n",
      "q Can Life Insurance Be Transferred To Another Company ?\n",
      "correct\n",
      "q How To Plan For Retirement In Your 20S ?\n",
      "wrong\n",
      "q How To Reimburse Employees For Health Insurance ?\n",
      "wrong\n",
      "q How To Be Medicare Certified ?\n",
      "wrong\n",
      "q Does Health Insurance Cover A Sports Injury ?\n",
      "wrong\n",
      "q Does Medicare Pay For Portable Nebulizers ?\n",
      "wrong\n",
      "q How Does Health Insurance For Newborns Work ?\n",
      "wrong\n",
      "q Can I Get Insurance On A Car I Do n't Own ?\n",
      "wrong\n",
      "q How To Get Discounts On Car Insurance ?\n",
      "wrong\n",
      "q What Should I Pay For Long Term Care Insurance ?\n"
     ]
    },
    {
     "ename": "KeyboardInterrupt",
     "evalue": "",
     "output_type": "error",
     "traceback": [
      "\u001b[0;31m---------------------------------------------------------------------------\u001b[0m",
      "\u001b[0;31mKeyboardInterrupt\u001b[0m                         Traceback (most recent call last)",
      "\u001b[0;32m<ipython-input-33-4543e5e27d36>\u001b[0m in \u001b[0;36m<module>\u001b[0;34m\u001b[0m\n\u001b[0;32m----> 1\u001b[0;31m \u001b[0mtest_model\u001b[0m\u001b[0;34m(\u001b[0m\u001b[0mmodel\u001b[0m\u001b[0;34m,\u001b[0m \u001b[0mtest\u001b[0m\u001b[0;34m)\u001b[0m\u001b[0;34m\u001b[0m\u001b[0;34m\u001b[0m\u001b[0m\n\u001b[0m",
      "\u001b[0;32m<ipython-input-32-b9f435fc9082>\u001b[0m in \u001b[0;36mtest_model\u001b[0;34m(model, data)\u001b[0m\n\u001b[1;32m     17\u001b[0m \u001b[0;34m\u001b[0m\u001b[0m\n\u001b[1;32m     18\u001b[0m         \u001b[0;31m# predict\u001b[0m\u001b[0;34m\u001b[0m\u001b[0;34m\u001b[0m\u001b[0;34m\u001b[0m\u001b[0m\n\u001b[0;32m---> 19\u001b[0;31m         \u001b[0mscores\u001b[0m \u001b[0;34m=\u001b[0m \u001b[0;34m[\u001b[0m\u001b[0mmodel\u001b[0m\u001b[0;34m(\u001b[0m\u001b[0mq\u001b[0m\u001b[0;34m,\u001b[0m \u001b[0mc\u001b[0m\u001b[0;34m.\u001b[0m\u001b[0munsqueeze\u001b[0m\u001b[0;34m(\u001b[0m\u001b[0;36m0\u001b[0m\u001b[0;34m)\u001b[0m\u001b[0;34m)\u001b[0m\u001b[0;34m.\u001b[0m\u001b[0mdata\u001b[0m\u001b[0;34m[\u001b[0m\u001b[0;36m0\u001b[0m\u001b[0;34m]\u001b[0m \u001b[0;32mfor\u001b[0m \u001b[0mc\u001b[0m \u001b[0;32min\u001b[0m \u001b[0mcands\u001b[0m\u001b[0;34m]\u001b[0m\u001b[0;34m\u001b[0m\u001b[0;34m\u001b[0m\u001b[0m\n\u001b[0m\u001b[1;32m     20\u001b[0m         \u001b[0mpred_idx\u001b[0m \u001b[0;34m=\u001b[0m \u001b[0mnp\u001b[0m\u001b[0;34m.\u001b[0m\u001b[0margmax\u001b[0m\u001b[0;34m(\u001b[0m\u001b[0mscores\u001b[0m\u001b[0;34m)\u001b[0m\u001b[0;34m\u001b[0m\u001b[0;34m\u001b[0m\u001b[0m\n\u001b[1;32m     21\u001b[0m         \u001b[0;32mif\u001b[0m \u001b[0mpred_idx\u001b[0m \u001b[0;32min\u001b[0m \u001b[0mlabel_indices\u001b[0m\u001b[0;34m:\u001b[0m\u001b[0;34m\u001b[0m\u001b[0;34m\u001b[0m\u001b[0m\n",
      "\u001b[0;32m<ipython-input-32-b9f435fc9082>\u001b[0m in \u001b[0;36m<listcomp>\u001b[0;34m(.0)\u001b[0m\n\u001b[1;32m     17\u001b[0m \u001b[0;34m\u001b[0m\u001b[0m\n\u001b[1;32m     18\u001b[0m         \u001b[0;31m# predict\u001b[0m\u001b[0;34m\u001b[0m\u001b[0;34m\u001b[0m\u001b[0;34m\u001b[0m\u001b[0m\n\u001b[0;32m---> 19\u001b[0;31m         \u001b[0mscores\u001b[0m \u001b[0;34m=\u001b[0m \u001b[0;34m[\u001b[0m\u001b[0mmodel\u001b[0m\u001b[0;34m(\u001b[0m\u001b[0mq\u001b[0m\u001b[0;34m,\u001b[0m \u001b[0mc\u001b[0m\u001b[0;34m.\u001b[0m\u001b[0munsqueeze\u001b[0m\u001b[0;34m(\u001b[0m\u001b[0;36m0\u001b[0m\u001b[0;34m)\u001b[0m\u001b[0;34m)\u001b[0m\u001b[0;34m.\u001b[0m\u001b[0mdata\u001b[0m\u001b[0;34m[\u001b[0m\u001b[0;36m0\u001b[0m\u001b[0;34m]\u001b[0m \u001b[0;32mfor\u001b[0m \u001b[0mc\u001b[0m \u001b[0;32min\u001b[0m \u001b[0mcands\u001b[0m\u001b[0;34m]\u001b[0m\u001b[0;34m\u001b[0m\u001b[0;34m\u001b[0m\u001b[0m\n\u001b[0m\u001b[1;32m     20\u001b[0m         \u001b[0mpred_idx\u001b[0m \u001b[0;34m=\u001b[0m \u001b[0mnp\u001b[0m\u001b[0;34m.\u001b[0m\u001b[0margmax\u001b[0m\u001b[0;34m(\u001b[0m\u001b[0mscores\u001b[0m\u001b[0;34m)\u001b[0m\u001b[0;34m\u001b[0m\u001b[0;34m\u001b[0m\u001b[0m\n\u001b[1;32m     21\u001b[0m         \u001b[0;32mif\u001b[0m \u001b[0mpred_idx\u001b[0m \u001b[0;32min\u001b[0m \u001b[0mlabel_indices\u001b[0m\u001b[0;34m:\u001b[0m\u001b[0;34m\u001b[0m\u001b[0;34m\u001b[0m\u001b[0m\n",
      "\u001b[0;32m~/anaconda3/lib/python3.7/site-packages/torch/nn/modules/module.py\u001b[0m in \u001b[0;36m__call__\u001b[0;34m(self, *input, **kwargs)\u001b[0m\n\u001b[1;32m    491\u001b[0m             \u001b[0mresult\u001b[0m \u001b[0;34m=\u001b[0m \u001b[0mself\u001b[0m\u001b[0;34m.\u001b[0m\u001b[0m_slow_forward\u001b[0m\u001b[0;34m(\u001b[0m\u001b[0;34m*\u001b[0m\u001b[0minput\u001b[0m\u001b[0;34m,\u001b[0m \u001b[0;34m**\u001b[0m\u001b[0mkwargs\u001b[0m\u001b[0;34m)\u001b[0m\u001b[0;34m\u001b[0m\u001b[0;34m\u001b[0m\u001b[0m\n\u001b[1;32m    492\u001b[0m         \u001b[0;32melse\u001b[0m\u001b[0;34m:\u001b[0m\u001b[0;34m\u001b[0m\u001b[0;34m\u001b[0m\u001b[0m\n\u001b[0;32m--> 493\u001b[0;31m             \u001b[0mresult\u001b[0m \u001b[0;34m=\u001b[0m \u001b[0mself\u001b[0m\u001b[0;34m.\u001b[0m\u001b[0mforward\u001b[0m\u001b[0;34m(\u001b[0m\u001b[0;34m*\u001b[0m\u001b[0minput\u001b[0m\u001b[0;34m,\u001b[0m \u001b[0;34m**\u001b[0m\u001b[0mkwargs\u001b[0m\u001b[0;34m)\u001b[0m\u001b[0;34m\u001b[0m\u001b[0;34m\u001b[0m\u001b[0m\n\u001b[0m\u001b[1;32m    494\u001b[0m         \u001b[0;32mfor\u001b[0m \u001b[0mhook\u001b[0m \u001b[0;32min\u001b[0m \u001b[0mself\u001b[0m\u001b[0;34m.\u001b[0m\u001b[0m_forward_hooks\u001b[0m\u001b[0;34m.\u001b[0m\u001b[0mvalues\u001b[0m\u001b[0;34m(\u001b[0m\u001b[0;34m)\u001b[0m\u001b[0;34m:\u001b[0m\u001b[0;34m\u001b[0m\u001b[0;34m\u001b[0m\u001b[0m\n\u001b[1;32m    495\u001b[0m             \u001b[0mhook_result\u001b[0m \u001b[0;34m=\u001b[0m \u001b[0mhook\u001b[0m\u001b[0;34m(\u001b[0m\u001b[0mself\u001b[0m\u001b[0;34m,\u001b[0m \u001b[0minput\u001b[0m\u001b[0;34m,\u001b[0m \u001b[0mresult\u001b[0m\u001b[0;34m)\u001b[0m\u001b[0;34m\u001b[0m\u001b[0;34m\u001b[0m\u001b[0m\n",
      "\u001b[0;32m~/Desktop/insuranceQA/basic_model.py\u001b[0m in \u001b[0;36mforward\u001b[0;34m(self, q, a)\u001b[0m\n\u001b[1;32m     29\u001b[0m         \u001b[0;31m# LSTM\u001b[0m\u001b[0;34m\u001b[0m\u001b[0;34m\u001b[0m\u001b[0;34m\u001b[0m\u001b[0m\n\u001b[1;32m     30\u001b[0m         \u001b[0mq\u001b[0m\u001b[0;34m,\u001b[0m \u001b[0m_h\u001b[0m \u001b[0;34m=\u001b[0m \u001b[0mself\u001b[0m\u001b[0;34m.\u001b[0m\u001b[0mshared_lstm\u001b[0m\u001b[0;34m(\u001b[0m\u001b[0mq\u001b[0m\u001b[0;34m)\u001b[0m \u001b[0;31m# (bs, L, 2H)\u001b[0m\u001b[0;34m\u001b[0m\u001b[0;34m\u001b[0m\u001b[0m\n\u001b[0;32m---> 31\u001b[0;31m         \u001b[0ma\u001b[0m\u001b[0;34m,\u001b[0m \u001b[0m_h\u001b[0m \u001b[0;34m=\u001b[0m \u001b[0mself\u001b[0m\u001b[0;34m.\u001b[0m\u001b[0mshared_lstm\u001b[0m\u001b[0;34m(\u001b[0m\u001b[0ma\u001b[0m\u001b[0;34m)\u001b[0m \u001b[0;31m# (bs, L, 2H)\u001b[0m\u001b[0;34m\u001b[0m\u001b[0;34m\u001b[0m\u001b[0m\n\u001b[0m\u001b[1;32m     32\u001b[0m \u001b[0;34m\u001b[0m\u001b[0m\n\u001b[1;32m     33\u001b[0m         \u001b[0;31m# mean\u001b[0m\u001b[0;34m\u001b[0m\u001b[0;34m\u001b[0m\u001b[0;34m\u001b[0m\u001b[0m\n",
      "\u001b[0;32m~/anaconda3/lib/python3.7/site-packages/torch/nn/modules/module.py\u001b[0m in \u001b[0;36m__call__\u001b[0;34m(self, *input, **kwargs)\u001b[0m\n\u001b[1;32m    491\u001b[0m             \u001b[0mresult\u001b[0m \u001b[0;34m=\u001b[0m \u001b[0mself\u001b[0m\u001b[0;34m.\u001b[0m\u001b[0m_slow_forward\u001b[0m\u001b[0;34m(\u001b[0m\u001b[0;34m*\u001b[0m\u001b[0minput\u001b[0m\u001b[0;34m,\u001b[0m \u001b[0;34m**\u001b[0m\u001b[0mkwargs\u001b[0m\u001b[0;34m)\u001b[0m\u001b[0;34m\u001b[0m\u001b[0;34m\u001b[0m\u001b[0m\n\u001b[1;32m    492\u001b[0m         \u001b[0;32melse\u001b[0m\u001b[0;34m:\u001b[0m\u001b[0;34m\u001b[0m\u001b[0;34m\u001b[0m\u001b[0m\n\u001b[0;32m--> 493\u001b[0;31m             \u001b[0mresult\u001b[0m \u001b[0;34m=\u001b[0m \u001b[0mself\u001b[0m\u001b[0;34m.\u001b[0m\u001b[0mforward\u001b[0m\u001b[0;34m(\u001b[0m\u001b[0;34m*\u001b[0m\u001b[0minput\u001b[0m\u001b[0;34m,\u001b[0m \u001b[0;34m**\u001b[0m\u001b[0mkwargs\u001b[0m\u001b[0;34m)\u001b[0m\u001b[0;34m\u001b[0m\u001b[0;34m\u001b[0m\u001b[0m\n\u001b[0m\u001b[1;32m    494\u001b[0m         \u001b[0;32mfor\u001b[0m \u001b[0mhook\u001b[0m \u001b[0;32min\u001b[0m \u001b[0mself\u001b[0m\u001b[0;34m.\u001b[0m\u001b[0m_forward_hooks\u001b[0m\u001b[0;34m.\u001b[0m\u001b[0mvalues\u001b[0m\u001b[0;34m(\u001b[0m\u001b[0;34m)\u001b[0m\u001b[0;34m:\u001b[0m\u001b[0;34m\u001b[0m\u001b[0;34m\u001b[0m\u001b[0m\n\u001b[1;32m    495\u001b[0m             \u001b[0mhook_result\u001b[0m \u001b[0;34m=\u001b[0m \u001b[0mhook\u001b[0m\u001b[0;34m(\u001b[0m\u001b[0mself\u001b[0m\u001b[0;34m,\u001b[0m \u001b[0minput\u001b[0m\u001b[0;34m,\u001b[0m \u001b[0mresult\u001b[0m\u001b[0;34m)\u001b[0m\u001b[0;34m\u001b[0m\u001b[0;34m\u001b[0m\u001b[0m\n",
      "\u001b[0;32m~/anaconda3/lib/python3.7/site-packages/torch/nn/modules/rnn.py\u001b[0m in \u001b[0;36mforward\u001b[0;34m(self, input, hx)\u001b[0m\n\u001b[1;32m    557\u001b[0m             \u001b[0;32mreturn\u001b[0m \u001b[0mself\u001b[0m\u001b[0;34m.\u001b[0m\u001b[0mforward_packed\u001b[0m\u001b[0;34m(\u001b[0m\u001b[0minput\u001b[0m\u001b[0;34m,\u001b[0m \u001b[0mhx\u001b[0m\u001b[0;34m)\u001b[0m\u001b[0;34m\u001b[0m\u001b[0;34m\u001b[0m\u001b[0m\n\u001b[1;32m    558\u001b[0m         \u001b[0;32melse\u001b[0m\u001b[0;34m:\u001b[0m\u001b[0;34m\u001b[0m\u001b[0;34m\u001b[0m\u001b[0m\n\u001b[0;32m--> 559\u001b[0;31m             \u001b[0;32mreturn\u001b[0m \u001b[0mself\u001b[0m\u001b[0;34m.\u001b[0m\u001b[0mforward_tensor\u001b[0m\u001b[0;34m(\u001b[0m\u001b[0minput\u001b[0m\u001b[0;34m,\u001b[0m \u001b[0mhx\u001b[0m\u001b[0;34m)\u001b[0m\u001b[0;34m\u001b[0m\u001b[0;34m\u001b[0m\u001b[0m\n\u001b[0m\u001b[1;32m    560\u001b[0m \u001b[0;34m\u001b[0m\u001b[0m\n\u001b[1;32m    561\u001b[0m \u001b[0;34m\u001b[0m\u001b[0m\n",
      "\u001b[0;32m~/anaconda3/lib/python3.7/site-packages/torch/nn/modules/rnn.py\u001b[0m in \u001b[0;36mforward_tensor\u001b[0;34m(self, input, hx)\u001b[0m\n\u001b[1;32m    537\u001b[0m         \u001b[0munsorted_indices\u001b[0m \u001b[0;34m=\u001b[0m \u001b[0;32mNone\u001b[0m\u001b[0;34m\u001b[0m\u001b[0;34m\u001b[0m\u001b[0m\n\u001b[1;32m    538\u001b[0m \u001b[0;34m\u001b[0m\u001b[0m\n\u001b[0;32m--> 539\u001b[0;31m         \u001b[0moutput\u001b[0m\u001b[0;34m,\u001b[0m \u001b[0mhidden\u001b[0m \u001b[0;34m=\u001b[0m \u001b[0mself\u001b[0m\u001b[0;34m.\u001b[0m\u001b[0mforward_impl\u001b[0m\u001b[0;34m(\u001b[0m\u001b[0minput\u001b[0m\u001b[0;34m,\u001b[0m \u001b[0mhx\u001b[0m\u001b[0;34m,\u001b[0m \u001b[0mbatch_sizes\u001b[0m\u001b[0;34m,\u001b[0m \u001b[0mmax_batch_size\u001b[0m\u001b[0;34m,\u001b[0m \u001b[0msorted_indices\u001b[0m\u001b[0;34m)\u001b[0m\u001b[0;34m\u001b[0m\u001b[0;34m\u001b[0m\u001b[0m\n\u001b[0m\u001b[1;32m    540\u001b[0m \u001b[0;34m\u001b[0m\u001b[0m\n\u001b[1;32m    541\u001b[0m         \u001b[0;32mreturn\u001b[0m \u001b[0moutput\u001b[0m\u001b[0;34m,\u001b[0m \u001b[0mself\u001b[0m\u001b[0;34m.\u001b[0m\u001b[0mpermute_hidden\u001b[0m\u001b[0;34m(\u001b[0m\u001b[0mhidden\u001b[0m\u001b[0;34m,\u001b[0m \u001b[0munsorted_indices\u001b[0m\u001b[0;34m)\u001b[0m\u001b[0;34m\u001b[0m\u001b[0;34m\u001b[0m\u001b[0m\n",
      "\u001b[0;32m~/anaconda3/lib/python3.7/site-packages/torch/nn/modules/rnn.py\u001b[0m in \u001b[0;36mforward_impl\u001b[0;34m(self, input, hx, batch_sizes, max_batch_size, sorted_indices)\u001b[0m\n\u001b[1;32m    520\u001b[0m         \u001b[0;32mif\u001b[0m \u001b[0mbatch_sizes\u001b[0m \u001b[0;32mis\u001b[0m \u001b[0;32mNone\u001b[0m\u001b[0;34m:\u001b[0m\u001b[0;34m\u001b[0m\u001b[0;34m\u001b[0m\u001b[0m\n\u001b[1;32m    521\u001b[0m             result = _VF.lstm(input, hx, self._get_flat_weights(), self.bias, self.num_layers,\n\u001b[0;32m--> 522\u001b[0;31m                               self.dropout, self.training, self.bidirectional, self.batch_first)\n\u001b[0m\u001b[1;32m    523\u001b[0m         \u001b[0;32melse\u001b[0m\u001b[0;34m:\u001b[0m\u001b[0;34m\u001b[0m\u001b[0;34m\u001b[0m\u001b[0m\n\u001b[1;32m    524\u001b[0m             result = _VF.lstm(input, batch_sizes, hx, self._get_flat_weights(), self.bias,\n",
      "\u001b[0;31mKeyboardInterrupt\u001b[0m: "
     ]
    }
   ],
   "source": [
    "test_model(model, test)"
   ]
  },
  {
   "cell_type": "code",
   "execution_count": 40,
   "metadata": {},
   "outputs": [],
   "source": [
    "# Save model\n",
    "torch.save(model.state_dict(), 'first_model')\n"
   ]
  },
  {
   "cell_type": "code",
   "execution_count": 41,
   "metadata": {},
   "outputs": [
    {
     "data": {
      "text/plain": [
       "IncompatibleKeys(missing_keys=[], unexpected_keys=[])"
      ]
     },
     "execution_count": 41,
     "metadata": {},
     "output_type": "execute_result"
    }
   ],
   "source": [
    "# Test load\n",
    "m = basic_model.QA_LSTM(args)\n",
    "m.load_state_dict(torch.load('first_model'))\n"
   ]
  },
  {
   "cell_type": "code",
   "execution_count": null,
   "metadata": {},
   "outputs": [],
   "source": []
  }
 ],
 "metadata": {
  "hide_input": false,
  "kernelspec": {
   "display_name": "Python 3",
   "language": "python",
   "name": "python3"
  },
  "language_info": {
   "codemirror_mode": {
    "name": "ipython",
    "version": 3
   },
   "file_extension": ".py",
   "mimetype": "text/x-python",
   "name": "python",
   "nbconvert_exporter": "python",
   "pygments_lexer": "ipython3",
   "version": "3.7.3"
  },
  "latex_envs": {
   "LaTeX_envs_menu_present": true,
   "autoclose": false,
   "autocomplete": true,
   "bibliofile": "biblio.bib",
   "cite_by": "apalike",
   "current_citInitial": 1,
   "eqLabelWithNumbers": true,
   "eqNumInitial": 1,
   "hotkeys": {
    "equation": "Ctrl-E",
    "itemize": "Ctrl-I"
   },
   "labels_anchors": false,
   "latex_user_defs": false,
   "report_style_numbering": false,
   "user_envs_cfg": false
  },
  "toc": {
   "base_numbering": 1,
   "nav_menu": {},
   "number_sections": true,
   "sideBar": true,
   "skip_h1_title": false,
   "title_cell": "Table of Contents",
   "title_sidebar": "Contents",
   "toc_cell": true,
   "toc_position": {},
   "toc_section_display": true,
   "toc_window_display": true
  }
 },
 "nbformat": 4,
 "nbformat_minor": 2
}
