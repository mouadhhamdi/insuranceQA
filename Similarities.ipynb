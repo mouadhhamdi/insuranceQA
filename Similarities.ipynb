{
 "cells": [
  {
   "cell_type": "markdown",
   "metadata": {
    "toc": true
   },
   "source": [
    "<h1>Table of Contents<span class=\"tocSkip\"></span></h1>\n",
    "<div class=\"toc\"><ul class=\"toc-item\"><li><span><a href=\"#Word2Vec-embedding-gensim\" data-toc-modified-id=\"Word2Vec-embedding-gensim-1\"><span class=\"toc-item-num\">1&nbsp;&nbsp;</span>Word2Vec embedding gensim</a></span></li><li><span><a href=\"#tf-idf\" data-toc-modified-id=\"tf-idf-2\"><span class=\"toc-item-num\">2&nbsp;&nbsp;</span>tf-idf</a></span></li><li><span><a href=\"#TODO:-Compare-the-answer-similarities-to-the\" data-toc-modified-id=\"TODO:-Compare-the-answer-similarities-to-the-3\"><span class=\"toc-item-num\">3&nbsp;&nbsp;</span>TODO: Compare the answer similarities to the</a></span></li></ul></div>"
   ]
  },
  {
   "cell_type": "code",
   "execution_count": 66,
   "metadata": {},
   "outputs": [],
   "source": [
    "# import basic libraries\n",
    "import pandas as pd\n",
    "import numpy as np\n",
    "import re\n",
    "import nltk\n",
    "from nltk.corpus import stopwords\n",
    "from nltk.stem.porter import *\n",
    "stemmer = PorterStemmer()\n",
    "import os\n",
    "# load the word2vec algorithm from the gensim library\n",
    "from gensim.models import word2vec\n",
    "\n",
    "from gensim.test.utils import get_tmpfile\n",
    "from gensim.models import KeyedVectors\n",
    "from gensim.models import Word2Vec, KeyedVectors \n",
    "from sklearn.manifold import TSNE\n",
    "import matplotlib.pyplot as plt\n",
    "\n",
    "import warnings\n",
    "warnings.filterwarnings(\"ignore\")\n",
    "\n",
    "from sklearn.feature_extraction.text import CountVectorizer\n",
    "from scipy.spatial import distance\n",
    "\n",
    "import itertools"
   ]
  },
  {
   "cell_type": "code",
   "execution_count": 3,
   "metadata": {},
   "outputs": [
    {
     "data": {
      "text/plain": [
       "4"
      ]
     },
     "execution_count": 3,
     "metadata": {},
     "output_type": "execute_result"
    }
   ],
   "source": [
    "import  multiprocessing \n",
    "multiprocessing.cpu_count() "
   ]
  },
  {
   "cell_type": "code",
   "execution_count": 4,
   "metadata": {},
   "outputs": [
    {
     "data": {
      "text/plain": [
       "'GeForce GTX 950M'"
      ]
     },
     "execution_count": 4,
     "metadata": {},
     "output_type": "execute_result"
    }
   ],
   "source": [
    "import torch\n",
    "\n",
    "torch.cuda.get_device_name()"
   ]
  },
  {
   "cell_type": "markdown",
   "metadata": {},
   "source": [
    "# Word2Vec embedding gensim"
   ]
  },
  {
   "cell_type": "code",
   "execution_count": 5,
   "metadata": {},
   "outputs": [],
   "source": [
    "# load dataframes\n",
    "l2q = pd.read_csv('l2q.csv', index_col=0)\n",
    "l2a = pd.read_csv('l2a.csv', index_col=0)"
   ]
  },
  {
   "cell_type": "code",
   "execution_count": 181,
   "metadata": {},
   "outputs": [],
   "source": [
    "# function to clean text\n",
    "def process_words(raw_review):\n",
    "    \n",
    "    # 1. Remove non-letters        \n",
    "    letters_only = re.sub(\"[^a-zA-Z]\", \" \", raw_review) \n",
    "    \n",
    "    # 2. Convert to lower case, split into individual words\n",
    "    words = letters_only.lower().split()\n",
    "    \n",
    "    # 3. Remove Stopwords. In Python, searching a set is much faster than searching a list, so convert the stop words to a set\n",
    "    stops = set(stopwords.words(\"english\"))                  \n",
    "    \n",
    "    # 4. Remove stop words\n",
    "    meaningful_words = [w for w in words if not w in stops]  #returns a list \n",
    "\n",
    "    # 5. Stem words. Need to define porter stemmer above\n",
    "    meaningful_words = [stemmer.stem(word) for word in meaningful_words]\n",
    "    \n",
    "    # 6. Join the words back into one string separated by space, and return the result.\n",
    "    return( \" \".join( meaningful_words ))"
   ]
  },
  {
   "cell_type": "code",
   "execution_count": 7,
   "metadata": {},
   "outputs": [],
   "source": [
    "\n",
    "# build a corpus for the word2vec model\n",
    "def build_corpus(data):\n",
    "    \"Creates a list of lists containing words from each sentence\"\n",
    "    corpus = []\n",
    "    for sentence in data:\n",
    "        word_list = sentence.split(\" \")\n",
    "        corpus.append(word_list)    \n",
    "           \n",
    "    return corpus"
   ]
  },
  {
   "cell_type": "code",
   "execution_count": 8,
   "metadata": {},
   "outputs": [],
   "source": [
    "# Process the answers\n",
    "processed_questions = [process_words(text) for text in l2q['questions_text']]"
   ]
  },
  {
   "cell_type": "code",
   "execution_count": 9,
   "metadata": {
    "scrolled": true
   },
   "outputs": [
    {
     "data": {
      "text/plain": [
       "'What Does Medicare IME Stand For ?'"
      ]
     },
     "execution_count": 9,
     "metadata": {},
     "output_type": "execute_result"
    }
   ],
   "source": [
    " l2q['questions_text'][0]"
   ]
  },
  {
   "cell_type": "code",
   "execution_count": 10,
   "metadata": {},
   "outputs": [
    {
     "data": {
      "text/plain": [
       "'medicare ime stand'"
      ]
     },
     "execution_count": 10,
     "metadata": {},
     "output_type": "execute_result"
    }
   ],
   "source": [
    "processed_questions[0]"
   ]
  },
  {
   "cell_type": "code",
   "execution_count": 11,
   "metadata": {},
   "outputs": [],
   "source": [
    "# Build the corpus: transform sentences to list of words\n",
    "corpus = build_corpus(processed_questions)\n",
    "# Create word2vec embedding\n",
    "w2v_embedding_q = word2vec.Word2Vec(corpus, size=100, window=5, min_count=50,workers=4)"
   ]
  },
  {
   "cell_type": "code",
   "execution_count": 12,
   "metadata": {},
   "outputs": [
    {
     "name": "stdout",
     "output_type": "stream",
     "text": [
      "The most important 10 words ['insurance', 'life', 'health', 'cover', 'medicare', 'get', 'term', 'much', 'car', 'disability']\n"
     ]
    }
   ],
   "source": [
    "# The most important 10 words \n",
    "print(\"The most important 10 words\", w2v_embedding_q.wv.index2word[:10])"
   ]
  },
  {
   "cell_type": "code",
   "execution_count": 13,
   "metadata": {},
   "outputs": [
    {
     "data": {
      "text/plain": [
       "[('claim', 0.6934787034988403),\n",
       " ('someone', 0.683912456035614),\n",
       " ('people', 0.6812896728515625),\n",
       " ('new', 0.6808490753173828),\n",
       " ('get', 0.6800342798233032),\n",
       " ('license', 0.6740952730178833),\n",
       " ('stay', 0.6711623668670654),\n",
       " ('would', 0.6711446046829224),\n",
       " ('parents', 0.670677900314331),\n",
       " ('companies', 0.6615357995033264)]"
      ]
     },
     "execution_count": 13,
     "metadata": {},
     "output_type": "execute_result"
    }
   ],
   "source": [
    "w2v_embedding_q.wv.most_similar('insurance')"
   ]
  },
  {
   "cell_type": "code",
   "execution_count": 14,
   "metadata": {},
   "outputs": [
    {
     "data": {
      "text/plain": [
       "[('policy', 0.8320557475090027),\n",
       " ('whole', 0.8139945864677429),\n",
       " ('cash', 0.7964382171630859),\n",
       " ('happens', 0.7951512336730957),\n",
       " ('owner', 0.7829078435897827),\n",
       " ('surrender', 0.7818723917007446),\n",
       " ('paid', 0.7752364277839661),\n",
       " ('value', 0.7686610221862793),\n",
       " ('mean', 0.7487317323684692),\n",
       " ('universal', 0.7485994100570679)]"
      ]
     },
     "execution_count": 14,
     "metadata": {},
     "output_type": "execute_result"
    }
   ],
   "source": [
    "w2v_embedding_q.wv.most_similar('life')"
   ]
  },
  {
   "cell_type": "code",
   "execution_count": 15,
   "metadata": {},
   "outputs": [
    {
     "name": "stdout",
     "output_type": "stream",
     "text": [
      "The less important 10 words ['personal', 'dog', 'include', 'primary', 'paying', 'probate', 'broken', 'needs', 'individual', 'loss']\n"
     ]
    }
   ],
   "source": [
    "# The less important 10 words \n",
    "print(\"The less important 10 words\", w2v_embedding_q.wv.index2word[-10:])"
   ]
  },
  {
   "cell_type": "markdown",
   "metadata": {},
   "source": [
    "Extract the embedding weights from the gensim Word2Vec embedding layer and store it in a numpy array, ready for use in TensorFlow and Keras."
   ]
  },
  {
   "cell_type": "code",
   "execution_count": 16,
   "metadata": {},
   "outputs": [],
   "source": [
    "def tsne_plot(model):\n",
    "    \"Creates and TSNE model and plots it\"\n",
    "    labels = []\n",
    "    tokens = []\n",
    "\n",
    "    for word in model.wv.vocab:\n",
    "        tokens.append(model[word])\n",
    "        labels.append(word)\n",
    "    \n",
    "    tsne_model = TSNE(perplexity=40, n_components=2, init='pca', n_iter=2500, random_state=23)\n",
    "    new_values = tsne_model.fit_transform(tokens)\n",
    "\n",
    "    x = []\n",
    "    y = []\n",
    "    for value in new_values:\n",
    "        x.append(value[0])\n",
    "        y.append(value[1])\n",
    "        \n",
    "    plt.figure(figsize=(16, 16)) \n",
    "    for i in range(len(x)):\n",
    "        plt.scatter(x[i],y[i])\n",
    "        plt.annotate(labels[i],\n",
    "                     xy=(x[i], y[i]),\n",
    "                     xytext=(5, 2),\n",
    "                     textcoords='offset points',\n",
    "                     ha='right',\n",
    "                     va='bottom')\n",
    "    plt.show()"
   ]
  },
  {
   "cell_type": "code",
   "execution_count": 17,
   "metadata": {},
   "outputs": [
    {
     "data": {
      "image/png": "[encoded data removed]",
      "text/plain": [
       "<Figure size 1152x1152 with 1 Axes>"
      ]
     },
     "metadata": {
      "needs_background": "light"
     },
     "output_type": "display_data"
    }
   ],
   "source": [
    "tsne_plot(w2v_embedding_q)"
   ]
  },
  {
   "cell_type": "code",
   "execution_count": 18,
   "metadata": {},
   "outputs": [],
   "source": [
    "# convert the wv word vectors into a numpy matrix that is suitable for insertion\n",
    "# into our TensorFlow and Keras models\n",
    "def create_embedding_matrix(model, vector_dim = 100):\n",
    "    embedding_matrix = np.zeros((len(model.wv.vocab), vector_dim ))\n",
    "    for i in range(len(model.wv.vocab)):\n",
    "        embedding_vector = model.wv[model.wv.index2word[i]]\n",
    "        if embedding_vector is not None:\n",
    "            embedding_matrix[i] = embedding_vector\n",
    "    return embedding_matrix"
   ]
  },
  {
   "cell_type": "code",
   "execution_count": 19,
   "metadata": {},
   "outputs": [],
   "source": [
    "embedding_matrix_q = create_embedding_matrix(w2v_embedding_q)"
   ]
  },
  {
   "cell_type": "code",
   "execution_count": 20,
   "metadata": {},
   "outputs": [],
   "source": [
    "def sentence_vector(model, sentence):\n",
    "    sentence_vec = 0\n",
    "    for w in sentence:  \n",
    "        try :\n",
    "            # Sum the word vetcors \n",
    "            sentence_vec += model.wv.get_vector(w)\n",
    "        except:\n",
    "            pass\n",
    "    return sentence_vec"
   ]
  },
  {
   "cell_type": "code",
   "execution_count": 65,
   "metadata": {},
   "outputs": [
    {
     "data": {
      "text/plain": [
       "array([-0.18516709, -0.14277227, -0.03446399, -0.02351163,  0.1046887 ,\n",
       "       -0.35691747, -0.05614672,  0.3396529 , -0.11943779, -0.28742906,\n",
       "        0.20248125, -0.00557111,  0.04057985,  0.08642518, -0.6366735 ,\n",
       "       -0.17305046, -0.01731722, -0.3970514 , -0.13089363,  0.06149254,\n",
       "        0.29872602, -0.36453846,  0.05288077, -0.31482133, -0.28893614,\n",
       "       -0.23721331, -0.06130653, -0.02132056, -0.21775201, -0.08202432,\n",
       "       -0.3446024 , -0.19801448, -0.1574201 ,  0.11964632,  0.50044495,\n",
       "       -0.08073939,  0.52833647, -0.01713642, -0.20684333,  0.14870557,\n",
       "       -0.2134027 ,  0.20552899, -0.1002664 , -0.25160822,  0.1608286 ,\n",
       "        0.8501775 ,  0.30984712,  0.3284868 ,  0.55378455,  0.53071827,\n",
       "       -0.09967076,  0.30240282, -0.28486216, -0.14240319, -0.28011104,\n",
       "       -0.13307695,  0.08176289,  0.10010695, -0.23079692,  0.3819641 ,\n",
       "       -0.18849267, -0.40005225,  0.15747488, -0.19641687,  0.35555866,\n",
       "       -0.27942944, -0.12108409, -0.02591861, -0.36897984,  0.20513794,\n",
       "        0.29477626, -0.13516395,  0.24012433, -0.23237154, -0.31774706,\n",
       "        0.0670924 , -0.4804397 , -0.05183198, -0.04046084, -0.30516925,\n",
       "       -0.5845872 , -0.02268604,  0.53392434, -0.04095961, -0.25324684,\n",
       "        0.00358192,  0.24954294,  0.5488788 ,  0.5217974 , -0.05423381,\n",
       "       -0.03751073,  0.28991428, -0.07448453, -0.6156138 ,  0.17555599,\n",
       "       -0.3112075 ,  0.29159918, -0.19512866, -0.24415979, -0.22974344],\n",
       "      dtype=float32)"
      ]
     },
     "execution_count": 65,
     "metadata": {},
     "output_type": "execute_result"
    }
   ],
   "source": [
    "sentence_vector(w2v_embedding_q, corpus[0])"
   ]
  },
  {
   "cell_type": "markdown",
   "metadata": {},
   "source": [
    "# tf-idf"
   ]
  },
  {
   "cell_type": "code",
   "execution_count": 182,
   "metadata": {},
   "outputs": [],
   "source": [
    "from sklearn.feature_extraction.text import TfidfVectorizer\n",
    "import collections\n",
    "from nltk import word_tokenize\n",
    "from nltk.corpus import stopwords\n",
    "from nltk.stem import PorterStemmer\n",
    "from sklearn.cluster import KMeans\n",
    "from sklearn.feature_extraction.text import TfidfVectorizer\n",
    "from pprint import pprint\n",
    "from sklearn.metrics.pairwise import cosine_similarity\n",
    "\n",
    "\n",
    "def word_tokenizer(text):\n",
    "    #tokenizes and stems the text\n",
    "    tokens = word_tokenize(text)\n",
    "    stemmer = PorterStemmer()\n",
    "    tokens = [stemmer.stem(t) for t in tokens if t not in stopwords.words('english')]\n",
    "    return tokens\n",
    "\n",
    "def construct_tfidf_matrix(sentences):\n",
    "    tfidf_vectorizer = TfidfVectorizer(tokenizer=process_words,\n",
    "                                    stop_words=stopwords.words('english'))\n",
    "\n",
    "    #builds a tf-idf matrix for the sentences\n",
    "    tfidf_matrix = tfidf_vectorizer.fit_transform(sentences)\n",
    "    similarity_matrix = cosine_similarity(tfidf_matrix)\n",
    "    return similarity_matrix"
   ]
  },
  {
   "cell_type": "code",
   "execution_count": 183,
   "metadata": {},
   "outputs": [],
   "source": [
    "similarity_matrix = construct_tfidf_matrix(list(l2q['questions_text'])) "
   ]
  },
  {
   "cell_type": "code",
   "execution_count": 197,
   "metadata": {},
   "outputs": [],
   "source": [
    "# To have to compute so it's saved\n",
    "#np.save('similarity_matrix', similarity_matrix)"
   ]
  },
  {
   "cell_type": "code",
   "execution_count": 22,
   "metadata": {},
   "outputs": [],
   "source": [
    "similarity_matrix = np.load('similarity_matrix.npy')"
   ]
  },
  {
   "cell_type": "code",
   "execution_count": 184,
   "metadata": {},
   "outputs": [],
   "source": [
    "# Similarity matrix dataframe\n",
    "sm_df = pd.DataFrame(similarity_matrix)"
   ]
  },
  {
   "cell_type": "code",
   "execution_count": 185,
   "metadata": {},
   "outputs": [
    {
     "data": {
      "text/html": [
       "<div>\n",
       "<style scoped>\n",
       "    .dataframe tbody tr th:only-of-type {\n",
       "        vertical-align: middle;\n",
       "    }\n",
       "\n",
       "    .dataframe tbody tr th {\n",
       "        vertical-align: top;\n",
       "    }\n",
       "\n",
       "    .dataframe thead th {\n",
       "        text-align: right;\n",
       "    }\n",
       "</style>\n",
       "<table border=\"1\" class=\"dataframe\">\n",
       "  <thead>\n",
       "    <tr style=\"text-align: right;\">\n",
       "      <th></th>\n",
       "      <th>0</th>\n",
       "      <th>1</th>\n",
       "      <th>2</th>\n",
       "      <th>3</th>\n",
       "      <th>4</th>\n",
       "      <th>5</th>\n",
       "      <th>6</th>\n",
       "      <th>7</th>\n",
       "      <th>8</th>\n",
       "      <th>9</th>\n",
       "      <th>...</th>\n",
       "      <th>27977</th>\n",
       "      <th>27978</th>\n",
       "      <th>27979</th>\n",
       "      <th>27980</th>\n",
       "      <th>27981</th>\n",
       "      <th>27982</th>\n",
       "      <th>27983</th>\n",
       "      <th>27984</th>\n",
       "      <th>27985</th>\n",
       "      <th>27986</th>\n",
       "    </tr>\n",
       "  </thead>\n",
       "  <tbody>\n",
       "    <tr>\n",
       "      <th>0</th>\n",
       "      <td>1.000000</td>\n",
       "      <td>0.808125</td>\n",
       "      <td>0.509818</td>\n",
       "      <td>0.745176</td>\n",
       "      <td>0.745176</td>\n",
       "      <td>0.781229</td>\n",
       "      <td>0.599353</td>\n",
       "      <td>0.664041</td>\n",
       "      <td>0.617637</td>\n",
       "      <td>0.521068</td>\n",
       "      <td>...</td>\n",
       "      <td>0.591742</td>\n",
       "      <td>0.779237</td>\n",
       "      <td>0.779237</td>\n",
       "      <td>0.775923</td>\n",
       "      <td>0.401767</td>\n",
       "      <td>0.401767</td>\n",
       "      <td>0.697212</td>\n",
       "      <td>0.697212</td>\n",
       "      <td>0.744969</td>\n",
       "      <td>0.756248</td>\n",
       "    </tr>\n",
       "    <tr>\n",
       "      <th>1</th>\n",
       "      <td>0.808125</td>\n",
       "      <td>1.000000</td>\n",
       "      <td>0.556511</td>\n",
       "      <td>0.766952</td>\n",
       "      <td>0.766952</td>\n",
       "      <td>0.599130</td>\n",
       "      <td>0.636823</td>\n",
       "      <td>0.694813</td>\n",
       "      <td>0.665382</td>\n",
       "      <td>0.605080</td>\n",
       "      <td>...</td>\n",
       "      <td>0.742926</td>\n",
       "      <td>0.756141</td>\n",
       "      <td>0.756141</td>\n",
       "      <td>0.790007</td>\n",
       "      <td>0.422037</td>\n",
       "      <td>0.422037</td>\n",
       "      <td>0.614369</td>\n",
       "      <td>0.614369</td>\n",
       "      <td>0.867396</td>\n",
       "      <td>0.679639</td>\n",
       "    </tr>\n",
       "    <tr>\n",
       "      <th>2</th>\n",
       "      <td>0.509818</td>\n",
       "      <td>0.556511</td>\n",
       "      <td>1.000000</td>\n",
       "      <td>0.462911</td>\n",
       "      <td>0.462911</td>\n",
       "      <td>0.386143</td>\n",
       "      <td>0.762707</td>\n",
       "      <td>0.691842</td>\n",
       "      <td>0.643489</td>\n",
       "      <td>0.873299</td>\n",
       "      <td>...</td>\n",
       "      <td>0.812801</td>\n",
       "      <td>0.679464</td>\n",
       "      <td>0.679464</td>\n",
       "      <td>0.609179</td>\n",
       "      <td>0.702097</td>\n",
       "      <td>0.702097</td>\n",
       "      <td>0.770094</td>\n",
       "      <td>0.770094</td>\n",
       "      <td>0.621627</td>\n",
       "      <td>0.721506</td>\n",
       "    </tr>\n",
       "    <tr>\n",
       "      <th>3</th>\n",
       "      <td>0.745176</td>\n",
       "      <td>0.766952</td>\n",
       "      <td>0.462911</td>\n",
       "      <td>1.000000</td>\n",
       "      <td>1.000000</td>\n",
       "      <td>0.710860</td>\n",
       "      <td>0.661233</td>\n",
       "      <td>0.598979</td>\n",
       "      <td>0.550586</td>\n",
       "      <td>0.447860</td>\n",
       "      <td>...</td>\n",
       "      <td>0.668590</td>\n",
       "      <td>0.853057</td>\n",
       "      <td>0.853057</td>\n",
       "      <td>0.644146</td>\n",
       "      <td>0.397731</td>\n",
       "      <td>0.397731</td>\n",
       "      <td>0.597265</td>\n",
       "      <td>0.597265</td>\n",
       "      <td>0.745730</td>\n",
       "      <td>0.719564</td>\n",
       "    </tr>\n",
       "    <tr>\n",
       "      <th>4</th>\n",
       "      <td>0.745176</td>\n",
       "      <td>0.766952</td>\n",
       "      <td>0.462911</td>\n",
       "      <td>1.000000</td>\n",
       "      <td>1.000000</td>\n",
       "      <td>0.710860</td>\n",
       "      <td>0.661233</td>\n",
       "      <td>0.598979</td>\n",
       "      <td>0.550586</td>\n",
       "      <td>0.447860</td>\n",
       "      <td>...</td>\n",
       "      <td>0.668590</td>\n",
       "      <td>0.853057</td>\n",
       "      <td>0.853057</td>\n",
       "      <td>0.644146</td>\n",
       "      <td>0.397731</td>\n",
       "      <td>0.397731</td>\n",
       "      <td>0.597265</td>\n",
       "      <td>0.597265</td>\n",
       "      <td>0.745730</td>\n",
       "      <td>0.719564</td>\n",
       "    </tr>\n",
       "  </tbody>\n",
       "</table>\n",
       "<p>5 rows × 27987 columns</p>\n",
       "</div>"
      ],
      "text/plain": [
       "      0         1         2         3         4         5         6      \\\n",
       "0  1.000000  0.808125  0.509818  0.745176  0.745176  0.781229  0.599353   \n",
       "1  0.808125  1.000000  0.556511  0.766952  0.766952  0.599130  0.636823   \n",
       "2  0.509818  0.556511  1.000000  0.462911  0.462911  0.386143  0.762707   \n",
       "3  0.745176  0.766952  0.462911  1.000000  1.000000  0.710860  0.661233   \n",
       "4  0.745176  0.766952  0.462911  1.000000  1.000000  0.710860  0.661233   \n",
       "\n",
       "      7         8         9      ...     27977     27978     27979     27980  \\\n",
       "0  0.664041  0.617637  0.521068  ...  0.591742  0.779237  0.779237  0.775923   \n",
       "1  0.694813  0.665382  0.605080  ...  0.742926  0.756141  0.756141  0.790007   \n",
       "2  0.691842  0.643489  0.873299  ...  0.812801  0.679464  0.679464  0.609179   \n",
       "3  0.598979  0.550586  0.447860  ...  0.668590  0.853057  0.853057  0.644146   \n",
       "4  0.598979  0.550586  0.447860  ...  0.668590  0.853057  0.853057  0.644146   \n",
       "\n",
       "      27981     27982     27983     27984     27985     27986  \n",
       "0  0.401767  0.401767  0.697212  0.697212  0.744969  0.756248  \n",
       "1  0.422037  0.422037  0.614369  0.614369  0.867396  0.679639  \n",
       "2  0.702097  0.702097  0.770094  0.770094  0.621627  0.721506  \n",
       "3  0.397731  0.397731  0.597265  0.597265  0.745730  0.719564  \n",
       "4  0.397731  0.397731  0.597265  0.597265  0.745730  0.719564  \n",
       "\n",
       "[5 rows x 27987 columns]"
      ]
     },
     "execution_count": 185,
     "metadata": {},
     "output_type": "execute_result"
    }
   ],
   "source": [
    "sm_df.head()"
   ]
  },
  {
   "cell_type": "code",
   "execution_count": 272,
   "metadata": {},
   "outputs": [],
   "source": [
    "# This function will return a matrix, each row contain a list of tuples\n",
    "# the tuple contain the position and and the value of similarity between strings\n",
    "def filter_threshold(matrix, threshold):\n",
    "    similar = []\n",
    "    for line_idx, row in enumerate(matrix):\n",
    "        above_threshold = []\n",
    "        for row_index, r in enumerate(row):\n",
    "            if r>= threshold and row_index<=len(matrix)/2:\n",
    "                above_threshold.append((line_idx,row_index,r))\n",
    "        similar.append(above_threshold)\n",
    "    return similar"
   ]
  },
  {
   "cell_type": "code",
   "execution_count": null,
   "metadata": {},
   "outputs": [],
   "source": [
    "threshold = 0.95\n",
    "# Filter up to a threshold\n",
    "sm_th = filter_threshold(similarity_matrix,threshold)"
   ]
  },
  {
   "cell_type": "code",
   "execution_count": null,
   "metadata": {},
   "outputs": [],
   "source": [
    "sm_th"
   ]
  },
  {
   "cell_type": "markdown",
   "metadata": {},
   "source": [
    "Example randomly chosen!"
   ]
  },
  {
   "cell_type": "code",
   "execution_count": 208,
   "metadata": {},
   "outputs": [
    {
     "data": {
      "text/plain": [
       "'Where To Get Homeowners Insurance ?'"
      ]
     },
     "execution_count": 208,
     "metadata": {},
     "output_type": "execute_result"
    }
   ],
   "source": [
    "# 3, 11258\n",
    "l2q.iloc[6]['questions_text']"
   ]
  },
  {
   "cell_type": "code",
   "execution_count": 209,
   "metadata": {},
   "outputs": [
    {
     "data": {
      "text/plain": [
       "'Why Homeowners Insurance Goes Up ?'"
      ]
     },
     "execution_count": 209,
     "metadata": {},
     "output_type": "execute_result"
    }
   ],
   "source": [
    "l2q.iloc[18379]['questions_text']"
   ]
  },
  {
   "cell_type": "code",
   "execution_count": 210,
   "metadata": {},
   "outputs": [],
   "source": [
    "# Remove the rows with one eleme since it's the comparison with ot self\n",
    "sm_th = [elem for elem in sm_th if len(elem)>1]\n",
    "sm_th = list(itertools.chain(*sm_th))"
   ]
  },
  {
   "cell_type": "code",
   "execution_count": 246,
   "metadata": {},
   "outputs": [],
   "source": [
    "# Create a dataframe for similar questions\n",
    "similar_questions = pd.DataFrame({'index_1':[x[0] for x in sm_th ],'index_2':[x[1] for x in sm_th ],\n",
    "                      'percentage_sim':[x[2] for x in sm_th ]})"
   ]
  },
  {
   "cell_type": "code",
   "execution_count": 247,
   "metadata": {},
   "outputs": [],
   "source": [
    "# Remove the rows where we compare the same index\n",
    "similar_questions = similar_questions[similar_questions['index_1'] != similar_questions['index_2']]"
   ]
  },
  {
   "cell_type": "code",
   "execution_count": 248,
   "metadata": {},
   "outputs": [
    {
     "data": {
      "text/html": [
       "<div>\n",
       "<style scoped>\n",
       "    .dataframe tbody tr th:only-of-type {\n",
       "        vertical-align: middle;\n",
       "    }\n",
       "\n",
       "    .dataframe tbody tr th {\n",
       "        vertical-align: top;\n",
       "    }\n",
       "\n",
       "    .dataframe thead th {\n",
       "        text-align: right;\n",
       "    }\n",
       "</style>\n",
       "<table border=\"1\" class=\"dataframe\">\n",
       "  <thead>\n",
       "    <tr style=\"text-align: right;\">\n",
       "      <th></th>\n",
       "      <th>index_1</th>\n",
       "      <th>index_2</th>\n",
       "      <th>percentage_sim</th>\n",
       "    </tr>\n",
       "  </thead>\n",
       "  <tbody>\n",
       "    <tr>\n",
       "      <th>1</th>\n",
       "      <td>0</td>\n",
       "      <td>883</td>\n",
       "      <td>0.952719</td>\n",
       "    </tr>\n",
       "    <tr>\n",
       "      <th>2</th>\n",
       "      <td>0</td>\n",
       "      <td>7844</td>\n",
       "      <td>0.952719</td>\n",
       "    </tr>\n",
       "    <tr>\n",
       "      <th>3</th>\n",
       "      <td>0</td>\n",
       "      <td>9501</td>\n",
       "      <td>0.951678</td>\n",
       "    </tr>\n",
       "    <tr>\n",
       "      <th>4</th>\n",
       "      <td>0</td>\n",
       "      <td>14136</td>\n",
       "      <td>0.962752</td>\n",
       "    </tr>\n",
       "    <tr>\n",
       "      <th>5</th>\n",
       "      <td>0</td>\n",
       "      <td>14137</td>\n",
       "      <td>0.962752</td>\n",
       "    </tr>\n",
       "    <tr>\n",
       "      <th>6</th>\n",
       "      <td>0</td>\n",
       "      <td>14138</td>\n",
       "      <td>0.962752</td>\n",
       "    </tr>\n",
       "    <tr>\n",
       "      <th>7</th>\n",
       "      <td>0</td>\n",
       "      <td>14731</td>\n",
       "      <td>0.978928</td>\n",
       "    </tr>\n",
       "    <tr>\n",
       "      <th>8</th>\n",
       "      <td>0</td>\n",
       "      <td>14732</td>\n",
       "      <td>0.978928</td>\n",
       "    </tr>\n",
       "    <tr>\n",
       "      <th>10</th>\n",
       "      <td>1</td>\n",
       "      <td>5523</td>\n",
       "      <td>0.975969</td>\n",
       "    </tr>\n",
       "    <tr>\n",
       "      <th>11</th>\n",
       "      <td>1</td>\n",
       "      <td>7182</td>\n",
       "      <td>0.984983</td>\n",
       "    </tr>\n",
       "  </tbody>\n",
       "</table>\n",
       "</div>"
      ],
      "text/plain": [
       "    index_1  index_2  percentage_sim\n",
       "1         0      883        0.952719\n",
       "2         0     7844        0.952719\n",
       "3         0     9501        0.951678\n",
       "4         0    14136        0.962752\n",
       "5         0    14137        0.962752\n",
       "6         0    14138        0.962752\n",
       "7         0    14731        0.978928\n",
       "8         0    14732        0.978928\n",
       "10        1     5523        0.975969\n",
       "11        1     7182        0.984983"
      ]
     },
     "execution_count": 248,
     "metadata": {},
     "output_type": "execute_result"
    }
   ],
   "source": [
    "similar_questions.head(10)"
   ]
  },
  {
   "cell_type": "code",
   "execution_count": 249,
   "metadata": {},
   "outputs": [
    {
     "data": {
      "text/plain": [
       "'Where To Get Homeowners Insurance ?'"
      ]
     },
     "execution_count": 249,
     "metadata": {},
     "output_type": "execute_result"
    }
   ],
   "source": [
    "l2q.iloc[6]['questions_text']"
   ]
  },
  {
   "cell_type": "code",
   "execution_count": 250,
   "metadata": {},
   "outputs": [
    {
     "data": {
      "text/plain": [
       "'What Is A Good Estimate For Homeowners Insurance ?'"
      ]
     },
     "execution_count": 250,
     "metadata": {},
     "output_type": "execute_result"
    }
   ],
   "source": [
    "l2q.iloc[6547]['questions_text']"
   ]
  },
  {
   "cell_type": "code",
   "execution_count": 251,
   "metadata": {
    "scrolled": true
   },
   "outputs": [
    {
     "data": {
      "text/plain": [
       "'How Do I Get Homeowners Insurance ?'"
      ]
     },
     "execution_count": 251,
     "metadata": {},
     "output_type": "execute_result"
    }
   ],
   "source": [
    "l2q.iloc[7798]['questions_text']"
   ]
  },
  {
   "cell_type": "code",
   "execution_count": 252,
   "metadata": {},
   "outputs": [],
   "source": [
    "# Merge the first question and it's answer\n",
    "similar_questions = similar_questions.merge(l2q[['groundTruth_labels_x']], left_on='index_1', \n",
    "                right_index=True).rename(columns={'groundTruth_labels_x': 'index_1_answer'})"
   ]
  },
  {
   "cell_type": "code",
   "execution_count": 253,
   "metadata": {},
   "outputs": [],
   "source": [
    "# Merge the second questions and it's answers\n",
    "similar_questions = similar_questions.merge(l2q[['groundTruth_labels_x']], left_on='index_2',\n",
    "                    right_index=True).rename(columns={'groundTruth_labels_x': 'index_2_answer'})"
   ]
  },
  {
   "cell_type": "code",
   "execution_count": 254,
   "metadata": {},
   "outputs": [],
   "source": [
    "# Remove the new index \n",
    "similar_questions = similar_questions.reset_index().drop('index', axis=1)"
   ]
  },
  {
   "cell_type": "code",
   "execution_count": 255,
   "metadata": {},
   "outputs": [
    {
     "data": {
      "text/html": [
       "<div>\n",
       "<style scoped>\n",
       "    .dataframe tbody tr th:only-of-type {\n",
       "        vertical-align: middle;\n",
       "    }\n",
       "\n",
       "    .dataframe tbody tr th {\n",
       "        vertical-align: top;\n",
       "    }\n",
       "\n",
       "    .dataframe thead th {\n",
       "        text-align: right;\n",
       "    }\n",
       "</style>\n",
       "<table border=\"1\" class=\"dataframe\">\n",
       "  <thead>\n",
       "    <tr style=\"text-align: right;\">\n",
       "      <th></th>\n",
       "      <th>index_1</th>\n",
       "      <th>index_2</th>\n",
       "      <th>percentage_sim</th>\n",
       "      <th>index_1_answer</th>\n",
       "      <th>index_2_answer</th>\n",
       "    </tr>\n",
       "  </thead>\n",
       "  <tbody>\n",
       "    <tr>\n",
       "      <th>0</th>\n",
       "      <td>0</td>\n",
       "      <td>883</td>\n",
       "      <td>0.952719</td>\n",
       "      <td>16696</td>\n",
       "      <td>20109</td>\n",
       "    </tr>\n",
       "    <tr>\n",
       "      <th>1</th>\n",
       "      <td>7184</td>\n",
       "      <td>883</td>\n",
       "      <td>0.970429</td>\n",
       "      <td>9754</td>\n",
       "      <td>20109</td>\n",
       "    </tr>\n",
       "    <tr>\n",
       "      <th>2</th>\n",
       "      <td>7844</td>\n",
       "      <td>883</td>\n",
       "      <td>1.000000</td>\n",
       "      <td>8765</td>\n",
       "      <td>20109</td>\n",
       "    </tr>\n",
       "    <tr>\n",
       "      <th>3</th>\n",
       "      <td>13106</td>\n",
       "      <td>883</td>\n",
       "      <td>0.960136</td>\n",
       "      <td>8750</td>\n",
       "      <td>20109</td>\n",
       "    </tr>\n",
       "    <tr>\n",
       "      <th>4</th>\n",
       "      <td>13107</td>\n",
       "      <td>883</td>\n",
       "      <td>0.960136</td>\n",
       "      <td>9172</td>\n",
       "      <td>20109</td>\n",
       "    </tr>\n",
       "  </tbody>\n",
       "</table>\n",
       "</div>"
      ],
      "text/plain": [
       "   index_1  index_2  percentage_sim  index_1_answer  index_2_answer\n",
       "0        0      883        0.952719           16696           20109\n",
       "1     7184      883        0.970429            9754           20109\n",
       "2     7844      883        1.000000            8765           20109\n",
       "3    13106      883        0.960136            8750           20109\n",
       "4    13107      883        0.960136            9172           20109"
      ]
     },
     "execution_count": 255,
     "metadata": {},
     "output_type": "execute_result"
    }
   ],
   "source": [
    "similar_questions.head()"
   ]
  },
  {
   "cell_type": "markdown",
   "metadata": {},
   "source": [
    "Better rate when we used stemmer "
   ]
  },
  {
   "cell_type": "code",
   "execution_count": 257,
   "metadata": {},
   "outputs": [
    {
     "data": {
      "text/plain": [
       "'What Does Medicare IME Stand For ?'"
      ]
     },
     "execution_count": 257,
     "metadata": {},
     "output_type": "execute_result"
    }
   ],
   "source": [
    "l2q.loc[0]['questions_text']"
   ]
  },
  {
   "cell_type": "code",
   "execution_count": 258,
   "metadata": {},
   "outputs": [
    {
     "data": {
      "text/plain": [
       "'Does Medicare Cost Money ?'"
      ]
     },
     "execution_count": 258,
     "metadata": {},
     "output_type": "execute_result"
    }
   ],
   "source": [
    "l2q.loc[883]['questions_text']"
   ]
  },
  {
   "cell_type": "markdown",
   "metadata": {},
   "source": [
    "Similar questions but need different answers! Let's consider only rows where we had the same answers!"
   ]
  },
  {
   "cell_type": "code",
   "execution_count": 259,
   "metadata": {},
   "outputs": [],
   "source": [
    "similar_answers = similar_questions[similar_questions['index_1_answer'] == similar_questions['index_2_answer']]"
   ]
  },
  {
   "cell_type": "code",
   "execution_count": 271,
   "metadata": {
    "scrolled": true
   },
   "outputs": [
    {
     "data": {
      "text/html": [
       "<div>\n",
       "<style scoped>\n",
       "    .dataframe tbody tr th:only-of-type {\n",
       "        vertical-align: middle;\n",
       "    }\n",
       "\n",
       "    .dataframe tbody tr th {\n",
       "        vertical-align: top;\n",
       "    }\n",
       "\n",
       "    .dataframe thead th {\n",
       "        text-align: right;\n",
       "    }\n",
       "</style>\n",
       "<table border=\"1\" class=\"dataframe\">\n",
       "  <thead>\n",
       "    <tr style=\"text-align: right;\">\n",
       "      <th></th>\n",
       "      <th>index_1</th>\n",
       "      <th>index_2</th>\n",
       "      <th>percentage_sim</th>\n",
       "      <th>index_1_answer</th>\n",
       "      <th>index_2_answer</th>\n",
       "    </tr>\n",
       "  </thead>\n",
       "  <tbody>\n",
       "    <tr>\n",
       "      <th>491</th>\n",
       "      <td>22706</td>\n",
       "      <td>10852</td>\n",
       "      <td>1.0</td>\n",
       "      <td>2826</td>\n",
       "      <td>2826</td>\n",
       "    </tr>\n",
       "    <tr>\n",
       "      <th>518</th>\n",
       "      <td>22707</td>\n",
       "      <td>10854</td>\n",
       "      <td>1.0</td>\n",
       "      <td>21918</td>\n",
       "      <td>21918</td>\n",
       "    </tr>\n",
       "    <tr>\n",
       "      <th>1052</th>\n",
       "      <td>10852</td>\n",
       "      <td>22706</td>\n",
       "      <td>1.0</td>\n",
       "      <td>2826</td>\n",
       "      <td>2826</td>\n",
       "    </tr>\n",
       "    <tr>\n",
       "      <th>1067</th>\n",
       "      <td>10854</td>\n",
       "      <td>22707</td>\n",
       "      <td>1.0</td>\n",
       "      <td>21918</td>\n",
       "      <td>21918</td>\n",
       "    </tr>\n",
       "    <tr>\n",
       "      <th>19400</th>\n",
       "      <td>24870</td>\n",
       "      <td>21478</td>\n",
       "      <td>1.0</td>\n",
       "      <td>8978</td>\n",
       "      <td>8978</td>\n",
       "    </tr>\n",
       "  </tbody>\n",
       "</table>\n",
       "</div>"
      ],
      "text/plain": [
       "       index_1  index_2  percentage_sim  index_1_answer  index_2_answer\n",
       "491      22706    10852             1.0            2826            2826\n",
       "518      22707    10854             1.0           21918           21918\n",
       "1052     10852    22706             1.0            2826            2826\n",
       "1067     10854    22707             1.0           21918           21918\n",
       "19400    24870    21478             1.0            8978            8978"
      ]
     },
     "execution_count": 271,
     "metadata": {},
     "output_type": "execute_result"
    }
   ],
   "source": [
    "similar_answers.head()"
   ]
  },
  {
   "cell_type": "code",
   "execution_count": 269,
   "metadata": {},
   "outputs": [
    {
     "data": {
      "text/plain": [
       "'What Is Non-Participating Whole Life Insurance ?'"
      ]
     },
     "execution_count": 269,
     "metadata": {},
     "output_type": "execute_result"
    }
   ],
   "source": [
    "l2q.loc[27818]['questions_text']"
   ]
  },
  {
   "cell_type": "code",
   "execution_count": 270,
   "metadata": {},
   "outputs": [
    {
     "data": {
      "text/plain": [
       "'What Is Non Participating Whole Life Insurance ?'"
      ]
     },
     "execution_count": 270,
     "metadata": {},
     "output_type": "execute_result"
    }
   ],
   "source": [
    "l2q.loc[13562]['questions_text']"
   ]
  },
  {
   "cell_type": "code",
   "execution_count": 261,
   "metadata": {},
   "outputs": [
    {
     "data": {
      "text/html": [
       "<div>\n",
       "<style scoped>\n",
       "    .dataframe tbody tr th:only-of-type {\n",
       "        vertical-align: middle;\n",
       "    }\n",
       "\n",
       "    .dataframe tbody tr th {\n",
       "        vertical-align: top;\n",
       "    }\n",
       "\n",
       "    .dataframe thead th {\n",
       "        text-align: right;\n",
       "    }\n",
       "</style>\n",
       "<table border=\"1\" class=\"dataframe\">\n",
       "  <thead>\n",
       "    <tr style=\"text-align: right;\">\n",
       "      <th></th>\n",
       "      <th>index_1</th>\n",
       "      <th>index_2</th>\n",
       "      <th>percentage_sim</th>\n",
       "      <th>index_1_answer</th>\n",
       "      <th>index_2_answer</th>\n",
       "    </tr>\n",
       "  </thead>\n",
       "  <tbody>\n",
       "    <tr>\n",
       "      <th>count</th>\n",
       "      <td>626.000000</td>\n",
       "      <td>626.000000</td>\n",
       "      <td>626.000000</td>\n",
       "      <td>626.000000</td>\n",
       "      <td>626.000000</td>\n",
       "    </tr>\n",
       "    <tr>\n",
       "      <th>mean</th>\n",
       "      <td>13854.607029</td>\n",
       "      <td>13854.607029</td>\n",
       "      <td>0.985964</td>\n",
       "      <td>12812.894569</td>\n",
       "      <td>12812.894569</td>\n",
       "    </tr>\n",
       "    <tr>\n",
       "      <th>std</th>\n",
       "      <td>7869.657414</td>\n",
       "      <td>7869.657414</td>\n",
       "      <td>0.015823</td>\n",
       "      <td>8266.789943</td>\n",
       "      <td>8266.789943</td>\n",
       "    </tr>\n",
       "    <tr>\n",
       "      <th>min</th>\n",
       "      <td>124.000000</td>\n",
       "      <td>124.000000</td>\n",
       "      <td>0.950489</td>\n",
       "      <td>40.000000</td>\n",
       "      <td>40.000000</td>\n",
       "    </tr>\n",
       "    <tr>\n",
       "      <th>25%</th>\n",
       "      <td>7034.250000</td>\n",
       "      <td>7034.250000</td>\n",
       "      <td>0.972901</td>\n",
       "      <td>5351.000000</td>\n",
       "      <td>5351.000000</td>\n",
       "    </tr>\n",
       "    <tr>\n",
       "      <th>50%</th>\n",
       "      <td>13562.500000</td>\n",
       "      <td>13562.500000</td>\n",
       "      <td>0.992416</td>\n",
       "      <td>12234.000000</td>\n",
       "      <td>12234.000000</td>\n",
       "    </tr>\n",
       "    <tr>\n",
       "      <th>75%</th>\n",
       "      <td>20408.500000</td>\n",
       "      <td>20408.500000</td>\n",
       "      <td>1.000000</td>\n",
       "      <td>19813.000000</td>\n",
       "      <td>19813.000000</td>\n",
       "    </tr>\n",
       "    <tr>\n",
       "      <th>max</th>\n",
       "      <td>27978.000000</td>\n",
       "      <td>27978.000000</td>\n",
       "      <td>1.000000</td>\n",
       "      <td>27330.000000</td>\n",
       "      <td>27330.000000</td>\n",
       "    </tr>\n",
       "  </tbody>\n",
       "</table>\n",
       "</div>"
      ],
      "text/plain": [
       "            index_1       index_2  percentage_sim  index_1_answer  \\\n",
       "count    626.000000    626.000000      626.000000      626.000000   \n",
       "mean   13854.607029  13854.607029        0.985964    12812.894569   \n",
       "std     7869.657414   7869.657414        0.015823     8266.789943   \n",
       "min      124.000000    124.000000        0.950489       40.000000   \n",
       "25%     7034.250000   7034.250000        0.972901     5351.000000   \n",
       "50%    13562.500000  13562.500000        0.992416    12234.000000   \n",
       "75%    20408.500000  20408.500000        1.000000    19813.000000   \n",
       "max    27978.000000  27978.000000        1.000000    27330.000000   \n",
       "\n",
       "       index_2_answer  \n",
       "count      626.000000  \n",
       "mean     12812.894569  \n",
       "std       8266.789943  \n",
       "min         40.000000  \n",
       "25%       5351.000000  \n",
       "50%      12234.000000  \n",
       "75%      19813.000000  \n",
       "max      27330.000000  "
      ]
     },
     "execution_count": 261,
     "metadata": {},
     "output_type": "execute_result"
    }
   ],
   "source": [
    "similar_answers.describe()"
   ]
  },
  {
   "cell_type": "code",
   "execution_count": 262,
   "metadata": {
    "scrolled": true
   },
   "outputs": [
    {
     "data": {
      "text/html": [
       "<div>\n",
       "<style scoped>\n",
       "    .dataframe tbody tr th:only-of-type {\n",
       "        vertical-align: middle;\n",
       "    }\n",
       "\n",
       "    .dataframe tbody tr th {\n",
       "        vertical-align: top;\n",
       "    }\n",
       "\n",
       "    .dataframe thead th {\n",
       "        text-align: right;\n",
       "    }\n",
       "</style>\n",
       "<table border=\"1\" class=\"dataframe\">\n",
       "  <thead>\n",
       "    <tr style=\"text-align: right;\">\n",
       "      <th></th>\n",
       "      <th>index_1</th>\n",
       "      <th>index_2</th>\n",
       "      <th>percentage_sim</th>\n",
       "      <th>index_1_answer</th>\n",
       "      <th>index_2_answer</th>\n",
       "    </tr>\n",
       "  </thead>\n",
       "  <tbody>\n",
       "    <tr>\n",
       "      <th>25578</th>\n",
       "      <td>25764</td>\n",
       "      <td>17243</td>\n",
       "      <td>0.974129</td>\n",
       "      <td>24692</td>\n",
       "      <td>24692</td>\n",
       "    </tr>\n",
       "    <tr>\n",
       "      <th>25630</th>\n",
       "      <td>25765</td>\n",
       "      <td>17244</td>\n",
       "      <td>0.974129</td>\n",
       "      <td>24420</td>\n",
       "      <td>24420</td>\n",
       "    </tr>\n",
       "    <tr>\n",
       "      <th>26598</th>\n",
       "      <td>17243</td>\n",
       "      <td>25764</td>\n",
       "      <td>0.974129</td>\n",
       "      <td>24692</td>\n",
       "      <td>24692</td>\n",
       "    </tr>\n",
       "    <tr>\n",
       "      <th>26636</th>\n",
       "      <td>17244</td>\n",
       "      <td>25765</td>\n",
       "      <td>0.974129</td>\n",
       "      <td>24420</td>\n",
       "      <td>24420</td>\n",
       "    </tr>\n",
       "    <tr>\n",
       "      <th>35728</th>\n",
       "      <td>18652</td>\n",
       "      <td>17105</td>\n",
       "      <td>0.988234</td>\n",
       "      <td>2428</td>\n",
       "      <td>2428</td>\n",
       "    </tr>\n",
       "    <tr>\n",
       "      <th>39305</th>\n",
       "      <td>16970</td>\n",
       "      <td>503</td>\n",
       "      <td>0.970955</td>\n",
       "      <td>26100</td>\n",
       "      <td>26100</td>\n",
       "    </tr>\n",
       "    <tr>\n",
       "      <th>67734</th>\n",
       "      <td>1298</td>\n",
       "      <td>4146</td>\n",
       "      <td>0.969941</td>\n",
       "      <td>26724</td>\n",
       "      <td>26724</td>\n",
       "    </tr>\n",
       "    <tr>\n",
       "      <th>71975</th>\n",
       "      <td>1298</td>\n",
       "      <td>27568</td>\n",
       "      <td>0.981404</td>\n",
       "      <td>26724</td>\n",
       "      <td>26724</td>\n",
       "    </tr>\n",
       "    <tr>\n",
       "      <th>117886</th>\n",
       "      <td>18987</td>\n",
       "      <td>26920</td>\n",
       "      <td>0.964083</td>\n",
       "      <td>6642</td>\n",
       "      <td>6642</td>\n",
       "    </tr>\n",
       "    <tr>\n",
       "      <th>154203</th>\n",
       "      <td>8247</td>\n",
       "      <td>22383</td>\n",
       "      <td>0.984124</td>\n",
       "      <td>6926</td>\n",
       "      <td>6926</td>\n",
       "    </tr>\n",
       "    <tr>\n",
       "      <th>154335</th>\n",
       "      <td>8243</td>\n",
       "      <td>22384</td>\n",
       "      <td>0.984124</td>\n",
       "      <td>21679</td>\n",
       "      <td>21679</td>\n",
       "    </tr>\n",
       "    <tr>\n",
       "      <th>154473</th>\n",
       "      <td>8245</td>\n",
       "      <td>22385</td>\n",
       "      <td>0.984124</td>\n",
       "      <td>9021</td>\n",
       "      <td>9021</td>\n",
       "    </tr>\n",
       "    <tr>\n",
       "      <th>154610</th>\n",
       "      <td>8246</td>\n",
       "      <td>22386</td>\n",
       "      <td>0.984124</td>\n",
       "      <td>22172</td>\n",
       "      <td>22172</td>\n",
       "    </tr>\n",
       "    <tr>\n",
       "      <th>194085</th>\n",
       "      <td>26058</td>\n",
       "      <td>126</td>\n",
       "      <td>0.966125</td>\n",
       "      <td>6459</td>\n",
       "      <td>6459</td>\n",
       "    </tr>\n",
       "    <tr>\n",
       "      <th>224451</th>\n",
       "      <td>124</td>\n",
       "      <td>26057</td>\n",
       "      <td>0.966125</td>\n",
       "      <td>19616</td>\n",
       "      <td>19616</td>\n",
       "    </tr>\n",
       "    <tr>\n",
       "      <th>224725</th>\n",
       "      <td>126</td>\n",
       "      <td>26058</td>\n",
       "      <td>0.966125</td>\n",
       "      <td>6459</td>\n",
       "      <td>6459</td>\n",
       "    </tr>\n",
       "    <tr>\n",
       "      <th>225876</th>\n",
       "      <td>26057</td>\n",
       "      <td>124</td>\n",
       "      <td>0.966125</td>\n",
       "      <td>19616</td>\n",
       "      <td>19616</td>\n",
       "    </tr>\n",
       "    <tr>\n",
       "      <th>228391</th>\n",
       "      <td>24200</td>\n",
       "      <td>23193</td>\n",
       "      <td>0.971609</td>\n",
       "      <td>10110</td>\n",
       "      <td>10110</td>\n",
       "    </tr>\n",
       "    <tr>\n",
       "      <th>228504</th>\n",
       "      <td>24201</td>\n",
       "      <td>23195</td>\n",
       "      <td>0.971609</td>\n",
       "      <td>17169</td>\n",
       "      <td>17169</td>\n",
       "    </tr>\n",
       "    <tr>\n",
       "      <th>232784</th>\n",
       "      <td>20410</td>\n",
       "      <td>3847</td>\n",
       "      <td>0.975993</td>\n",
       "      <td>27033</td>\n",
       "      <td>27033</td>\n",
       "    </tr>\n",
       "    <tr>\n",
       "      <th>237513</th>\n",
       "      <td>25153</td>\n",
       "      <td>11846</td>\n",
       "      <td>0.969812</td>\n",
       "      <td>12507</td>\n",
       "      <td>12507</td>\n",
       "    </tr>\n",
       "    <tr>\n",
       "      <th>237906</th>\n",
       "      <td>14579</td>\n",
       "      <td>11850</td>\n",
       "      <td>0.979122</td>\n",
       "      <td>13677</td>\n",
       "      <td>13677</td>\n",
       "    </tr>\n",
       "    <tr>\n",
       "      <th>240670</th>\n",
       "      <td>11850</td>\n",
       "      <td>14579</td>\n",
       "      <td>0.979122</td>\n",
       "      <td>13677</td>\n",
       "      <td>13677</td>\n",
       "    </tr>\n",
       "    <tr>\n",
       "      <th>279446</th>\n",
       "      <td>4146</td>\n",
       "      <td>1298</td>\n",
       "      <td>0.969941</td>\n",
       "      <td>26724</td>\n",
       "      <td>26724</td>\n",
       "    </tr>\n",
       "    <tr>\n",
       "      <th>279521</th>\n",
       "      <td>27568</td>\n",
       "      <td>1298</td>\n",
       "      <td>0.981404</td>\n",
       "      <td>26724</td>\n",
       "      <td>26724</td>\n",
       "    </tr>\n",
       "    <tr>\n",
       "      <th>286185</th>\n",
       "      <td>22934</td>\n",
       "      <td>8548</td>\n",
       "      <td>0.979733</td>\n",
       "      <td>11916</td>\n",
       "      <td>11916</td>\n",
       "    </tr>\n",
       "    <tr>\n",
       "      <th>288603</th>\n",
       "      <td>26920</td>\n",
       "      <td>18987</td>\n",
       "      <td>0.964083</td>\n",
       "      <td>6642</td>\n",
       "      <td>6642</td>\n",
       "    </tr>\n",
       "    <tr>\n",
       "      <th>296468</th>\n",
       "      <td>11945</td>\n",
       "      <td>21305</td>\n",
       "      <td>0.951835</td>\n",
       "      <td>21165</td>\n",
       "      <td>21165</td>\n",
       "    </tr>\n",
       "    <tr>\n",
       "      <th>310402</th>\n",
       "      <td>8749</td>\n",
       "      <td>2235</td>\n",
       "      <td>0.973181</td>\n",
       "      <td>11861</td>\n",
       "      <td>11861</td>\n",
       "    </tr>\n",
       "    <tr>\n",
       "      <th>310528</th>\n",
       "      <td>2235</td>\n",
       "      <td>8749</td>\n",
       "      <td>0.973181</td>\n",
       "      <td>11861</td>\n",
       "      <td>11861</td>\n",
       "    </tr>\n",
       "    <tr>\n",
       "      <th>...</th>\n",
       "      <td>...</td>\n",
       "      <td>...</td>\n",
       "      <td>...</td>\n",
       "      <td>...</td>\n",
       "      <td>...</td>\n",
       "    </tr>\n",
       "    <tr>\n",
       "      <th>1308082</th>\n",
       "      <td>23193</td>\n",
       "      <td>24200</td>\n",
       "      <td>0.971609</td>\n",
       "      <td>10110</td>\n",
       "      <td>10110</td>\n",
       "    </tr>\n",
       "    <tr>\n",
       "      <th>1308106</th>\n",
       "      <td>23195</td>\n",
       "      <td>24201</td>\n",
       "      <td>0.971609</td>\n",
       "      <td>17169</td>\n",
       "      <td>17169</td>\n",
       "    </tr>\n",
       "    <tr>\n",
       "      <th>1310258</th>\n",
       "      <td>19150</td>\n",
       "      <td>8641</td>\n",
       "      <td>0.974797</td>\n",
       "      <td>8353</td>\n",
       "      <td>8353</td>\n",
       "    </tr>\n",
       "    <tr>\n",
       "      <th>1313194</th>\n",
       "      <td>6174</td>\n",
       "      <td>6449</td>\n",
       "      <td>0.984331</td>\n",
       "      <td>12298</td>\n",
       "      <td>12298</td>\n",
       "    </tr>\n",
       "    <tr>\n",
       "      <th>1318610</th>\n",
       "      <td>8641</td>\n",
       "      <td>19150</td>\n",
       "      <td>0.974797</td>\n",
       "      <td>8353</td>\n",
       "      <td>8353</td>\n",
       "    </tr>\n",
       "    <tr>\n",
       "      <th>1319596</th>\n",
       "      <td>14126</td>\n",
       "      <td>17991</td>\n",
       "      <td>0.972260</td>\n",
       "      <td>9081</td>\n",
       "      <td>9081</td>\n",
       "    </tr>\n",
       "    <tr>\n",
       "      <th>1319672</th>\n",
       "      <td>21259</td>\n",
       "      <td>16447</td>\n",
       "      <td>0.971807</td>\n",
       "      <td>21242</td>\n",
       "      <td>21242</td>\n",
       "    </tr>\n",
       "    <tr>\n",
       "      <th>1322522</th>\n",
       "      <td>15176</td>\n",
       "      <td>7532</td>\n",
       "      <td>0.987204</td>\n",
       "      <td>18780</td>\n",
       "      <td>18780</td>\n",
       "    </tr>\n",
       "    <tr>\n",
       "      <th>1322539</th>\n",
       "      <td>15177</td>\n",
       "      <td>7533</td>\n",
       "      <td>0.987204</td>\n",
       "      <td>13999</td>\n",
       "      <td>13999</td>\n",
       "    </tr>\n",
       "    <tr>\n",
       "      <th>1322598</th>\n",
       "      <td>7532</td>\n",
       "      <td>15176</td>\n",
       "      <td>0.987204</td>\n",
       "      <td>18780</td>\n",
       "      <td>18780</td>\n",
       "    </tr>\n",
       "    <tr>\n",
       "      <th>1322615</th>\n",
       "      <td>7533</td>\n",
       "      <td>15177</td>\n",
       "      <td>0.987204</td>\n",
       "      <td>13999</td>\n",
       "      <td>13999</td>\n",
       "    </tr>\n",
       "    <tr>\n",
       "      <th>1325758</th>\n",
       "      <td>17105</td>\n",
       "      <td>18652</td>\n",
       "      <td>0.988234</td>\n",
       "      <td>2428</td>\n",
       "      <td>2428</td>\n",
       "    </tr>\n",
       "    <tr>\n",
       "      <th>1326459</th>\n",
       "      <td>8409</td>\n",
       "      <td>5117</td>\n",
       "      <td>0.973055</td>\n",
       "      <td>10859</td>\n",
       "      <td>10859</td>\n",
       "    </tr>\n",
       "    <tr>\n",
       "      <th>1327099</th>\n",
       "      <td>8993</td>\n",
       "      <td>7879</td>\n",
       "      <td>0.965158</td>\n",
       "      <td>8330</td>\n",
       "      <td>8330</td>\n",
       "    </tr>\n",
       "    <tr>\n",
       "      <th>1330615</th>\n",
       "      <td>11694</td>\n",
       "      <td>25727</td>\n",
       "      <td>0.959716</td>\n",
       "      <td>12972</td>\n",
       "      <td>12972</td>\n",
       "    </tr>\n",
       "    <tr>\n",
       "      <th>1331116</th>\n",
       "      <td>22269</td>\n",
       "      <td>15902</td>\n",
       "      <td>0.981176</td>\n",
       "      <td>16141</td>\n",
       "      <td>16141</td>\n",
       "    </tr>\n",
       "    <tr>\n",
       "      <th>1331132</th>\n",
       "      <td>22270</td>\n",
       "      <td>15903</td>\n",
       "      <td>0.981176</td>\n",
       "      <td>10789</td>\n",
       "      <td>10789</td>\n",
       "    </tr>\n",
       "    <tr>\n",
       "      <th>1331163</th>\n",
       "      <td>22271</td>\n",
       "      <td>15905</td>\n",
       "      <td>0.981176</td>\n",
       "      <td>3182</td>\n",
       "      <td>3182</td>\n",
       "    </tr>\n",
       "    <tr>\n",
       "      <th>1331181</th>\n",
       "      <td>22274</td>\n",
       "      <td>15906</td>\n",
       "      <td>0.981176</td>\n",
       "      <td>8549</td>\n",
       "      <td>8549</td>\n",
       "    </tr>\n",
       "    <tr>\n",
       "      <th>1332247</th>\n",
       "      <td>12406</td>\n",
       "      <td>10838</td>\n",
       "      <td>0.973283</td>\n",
       "      <td>23231</td>\n",
       "      <td>23231</td>\n",
       "    </tr>\n",
       "    <tr>\n",
       "      <th>1332251</th>\n",
       "      <td>10838</td>\n",
       "      <td>12406</td>\n",
       "      <td>0.973283</td>\n",
       "      <td>23231</td>\n",
       "      <td>23231</td>\n",
       "    </tr>\n",
       "    <tr>\n",
       "      <th>1333290</th>\n",
       "      <td>25727</td>\n",
       "      <td>11694</td>\n",
       "      <td>0.959716</td>\n",
       "      <td>12972</td>\n",
       "      <td>12972</td>\n",
       "    </tr>\n",
       "    <tr>\n",
       "      <th>1333953</th>\n",
       "      <td>15902</td>\n",
       "      <td>22269</td>\n",
       "      <td>0.981176</td>\n",
       "      <td>16141</td>\n",
       "      <td>16141</td>\n",
       "    </tr>\n",
       "    <tr>\n",
       "      <th>1333977</th>\n",
       "      <td>15903</td>\n",
       "      <td>22270</td>\n",
       "      <td>0.981176</td>\n",
       "      <td>10789</td>\n",
       "      <td>10789</td>\n",
       "    </tr>\n",
       "    <tr>\n",
       "      <th>1334002</th>\n",
       "      <td>15905</td>\n",
       "      <td>22271</td>\n",
       "      <td>0.981176</td>\n",
       "      <td>3182</td>\n",
       "      <td>3182</td>\n",
       "    </tr>\n",
       "    <tr>\n",
       "      <th>1334072</th>\n",
       "      <td>15906</td>\n",
       "      <td>22274</td>\n",
       "      <td>0.981176</td>\n",
       "      <td>8549</td>\n",
       "      <td>8549</td>\n",
       "    </tr>\n",
       "    <tr>\n",
       "      <th>1335138</th>\n",
       "      <td>21091</td>\n",
       "      <td>17420</td>\n",
       "      <td>0.963015</td>\n",
       "      <td>21406</td>\n",
       "      <td>21406</td>\n",
       "    </tr>\n",
       "    <tr>\n",
       "      <th>1335277</th>\n",
       "      <td>13580</td>\n",
       "      <td>15204</td>\n",
       "      <td>0.982714</td>\n",
       "      <td>9982</td>\n",
       "      <td>9982</td>\n",
       "    </tr>\n",
       "    <tr>\n",
       "      <th>1336453</th>\n",
       "      <td>15204</td>\n",
       "      <td>13580</td>\n",
       "      <td>0.982714</td>\n",
       "      <td>9982</td>\n",
       "      <td>9982</td>\n",
       "    </tr>\n",
       "    <tr>\n",
       "      <th>1337488</th>\n",
       "      <td>17991</td>\n",
       "      <td>14126</td>\n",
       "      <td>0.972260</td>\n",
       "      <td>9081</td>\n",
       "      <td>9081</td>\n",
       "    </tr>\n",
       "  </tbody>\n",
       "</table>\n",
       "<p>300 rows × 5 columns</p>\n",
       "</div>"
      ],
      "text/plain": [
       "         index_1  index_2  percentage_sim  index_1_answer  index_2_answer\n",
       "25578      25764    17243        0.974129           24692           24692\n",
       "25630      25765    17244        0.974129           24420           24420\n",
       "26598      17243    25764        0.974129           24692           24692\n",
       "26636      17244    25765        0.974129           24420           24420\n",
       "35728      18652    17105        0.988234            2428            2428\n",
       "39305      16970      503        0.970955           26100           26100\n",
       "67734       1298     4146        0.969941           26724           26724\n",
       "71975       1298    27568        0.981404           26724           26724\n",
       "117886     18987    26920        0.964083            6642            6642\n",
       "154203      8247    22383        0.984124            6926            6926\n",
       "154335      8243    22384        0.984124           21679           21679\n",
       "154473      8245    22385        0.984124            9021            9021\n",
       "154610      8246    22386        0.984124           22172           22172\n",
       "194085     26058      126        0.966125            6459            6459\n",
       "224451       124    26057        0.966125           19616           19616\n",
       "224725       126    26058        0.966125            6459            6459\n",
       "225876     26057      124        0.966125           19616           19616\n",
       "228391     24200    23193        0.971609           10110           10110\n",
       "228504     24201    23195        0.971609           17169           17169\n",
       "232784     20410     3847        0.975993           27033           27033\n",
       "237513     25153    11846        0.969812           12507           12507\n",
       "237906     14579    11850        0.979122           13677           13677\n",
       "240670     11850    14579        0.979122           13677           13677\n",
       "279446      4146     1298        0.969941           26724           26724\n",
       "279521     27568     1298        0.981404           26724           26724\n",
       "286185     22934     8548        0.979733           11916           11916\n",
       "288603     26920    18987        0.964083            6642            6642\n",
       "296468     11945    21305        0.951835           21165           21165\n",
       "310402      8749     2235        0.973181           11861           11861\n",
       "310528      2235     8749        0.973181           11861           11861\n",
       "...          ...      ...             ...             ...             ...\n",
       "1308082    23193    24200        0.971609           10110           10110\n",
       "1308106    23195    24201        0.971609           17169           17169\n",
       "1310258    19150     8641        0.974797            8353            8353\n",
       "1313194     6174     6449        0.984331           12298           12298\n",
       "1318610     8641    19150        0.974797            8353            8353\n",
       "1319596    14126    17991        0.972260            9081            9081\n",
       "1319672    21259    16447        0.971807           21242           21242\n",
       "1322522    15176     7532        0.987204           18780           18780\n",
       "1322539    15177     7533        0.987204           13999           13999\n",
       "1322598     7532    15176        0.987204           18780           18780\n",
       "1322615     7533    15177        0.987204           13999           13999\n",
       "1325758    17105    18652        0.988234            2428            2428\n",
       "1326459     8409     5117        0.973055           10859           10859\n",
       "1327099     8993     7879        0.965158            8330            8330\n",
       "1330615    11694    25727        0.959716           12972           12972\n",
       "1331116    22269    15902        0.981176           16141           16141\n",
       "1331132    22270    15903        0.981176           10789           10789\n",
       "1331163    22271    15905        0.981176            3182            3182\n",
       "1331181    22274    15906        0.981176            8549            8549\n",
       "1332247    12406    10838        0.973283           23231           23231\n",
       "1332251    10838    12406        0.973283           23231           23231\n",
       "1333290    25727    11694        0.959716           12972           12972\n",
       "1333953    15902    22269        0.981176           16141           16141\n",
       "1333977    15903    22270        0.981176           10789           10789\n",
       "1334002    15905    22271        0.981176            3182            3182\n",
       "1334072    15906    22274        0.981176            8549            8549\n",
       "1335138    21091    17420        0.963015           21406           21406\n",
       "1335277    13580    15204        0.982714            9982            9982\n",
       "1336453    15204    13580        0.982714            9982            9982\n",
       "1337488    17991    14126        0.972260            9081            9081\n",
       "\n",
       "[300 rows x 5 columns]"
      ]
     },
     "execution_count": 262,
     "metadata": {},
     "output_type": "execute_result"
    }
   ],
   "source": [
    "# Keep only the one with percentage less than 1 since 1 is when the same questions in both index\n",
    "similar_answers[similar_answers['percentage_sim'] <0.99]"
   ]
  },
  {
   "cell_type": "code",
   "execution_count": 263,
   "metadata": {},
   "outputs": [
    {
     "data": {
      "text/plain": [
       "'How Long Does It Usually Take To Get Life Insurance Money ?'"
      ]
     },
     "execution_count": 263,
     "metadata": {},
     "output_type": "execute_result"
    }
   ],
   "source": [
    "l2q.loc[25764]['questions_text']"
   ]
  },
  {
   "cell_type": "code",
   "execution_count": 264,
   "metadata": {},
   "outputs": [
    {
     "data": {
      "text/plain": [
       "'How Long Does It Take To Get Life Insurance Money ?'"
      ]
     },
     "execution_count": 264,
     "metadata": {},
     "output_type": "execute_result"
    }
   ],
   "source": [
    "l2q.loc[17243]['questions_text']"
   ]
  },
  {
   "cell_type": "markdown",
   "metadata": {},
   "source": [
    "# TODO: Compare the answer similarities to the "
   ]
  },
  {
   "cell_type": "code",
   "execution_count": null,
   "metadata": {},
   "outputs": [],
   "source": []
  }
 ],
 "metadata": {
  "hide_input": false,
  "kernelspec": {
   "display_name": "Python 3",
   "language": "python",
   "name": "python3"
  },
  "language_info": {
   "codemirror_mode": {
    "name": "ipython",
    "version": 3
   },
   "file_extension": ".py",
   "mimetype": "text/x-python",
   "name": "python",
   "nbconvert_exporter": "python",
   "pygments_lexer": "ipython3",
   "version": "3.7.3"
  },
  "latex_envs": {
   "LaTeX_envs_menu_present": true,
   "autoclose": false,
   "autocomplete": true,
   "bibliofile": "biblio.bib",
   "cite_by": "apalike",
   "current_citInitial": 1,
   "eqLabelWithNumbers": true,
   "eqNumInitial": 1,
   "hotkeys": {
    "equation": "Ctrl-E",
    "itemize": "Ctrl-I"
   },
   "labels_anchors": false,
   "latex_user_defs": false,
   "report_style_numbering": false,
   "user_envs_cfg": false
  },
  "toc": {
   "base_numbering": 1,
   "nav_menu": {},
   "number_sections": true,
   "sideBar": true,
   "skip_h1_title": false,
   "title_cell": "Table of Contents",
   "title_sidebar": "Contents",
   "toc_cell": true,
   "toc_position": {
    "height": "calc(100% - 180px)",
    "left": "10px",
    "top": "150px",
    "width": "384px"
   },
   "toc_section_display": true,
   "toc_window_display": true
  }
 },
 "nbformat": 4,
 "nbformat_minor": 2
}
